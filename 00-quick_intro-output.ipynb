{
 "cells": [
  {
   "cell_type": "markdown",
   "metadata": {},
   "source": [
    "# Quick introduction\n",
    "\n",
    "erddapy is a pure python package and can be installed with conda\n",
    "\n",
    "```shell\n",
    "conda install --channel conda-forge erddapy\n",
    "```\n",
    "\n",
    "or pip\n",
    "\n",
    "```shell\n",
    "pip install erddapy\n",
    "```\n"
   ]
  },
  {
   "cell_type": "markdown",
   "metadata": {},
   "source": [
    "First we need to instantiate the ERDDAP URL constructor for a server. In this\n",
    "example we will use\n",
    "[https://gliders.ioos.us/erddap](https://gliders.ioos.us/erddap/index.html).\n"
   ]
  },
  {
   "cell_type": "code",
   "execution_count": 1,
   "metadata": {
    "execution": {
     "iopub.execute_input": "2021-08-16T17:25:28.046265Z",
     "iopub.status.busy": "2021-08-16T17:25:28.045678Z",
     "iopub.status.idle": "2021-08-16T17:25:28.965466Z",
     "shell.execute_reply": "2021-08-16T17:25:28.964984Z"
    }
   },
   "outputs": [],
   "source": [
    "from erddapy import ERDDAP\n",
    "\n",
    "\n",
    "e = ERDDAP(\n",
    "    server=\"NGDAC\",  # \"NOAA IOOS NGDAC (National Glider Data Assembly Center)\"\n",
    "    protocol=\"tabledap\",\n",
    "    response=\"csv\",\n",
    ")"
   ]
  },
  {
   "cell_type": "markdown",
   "metadata": {},
   "source": [
    "Now we can populate the object a dataset id, variables of interest, and its\n",
    "constraints. We can download the csvp response with the `.to_pandas` method.\n"
   ]
  },
  {
   "cell_type": "code",
   "execution_count": 2,
   "metadata": {
    "execution": {
     "iopub.execute_input": "2021-08-16T17:25:28.970807Z",
     "iopub.status.busy": "2021-08-16T17:25:28.970303Z",
     "iopub.status.idle": "2021-08-16T17:25:30.608780Z",
     "shell.execute_reply": "2021-08-16T17:25:30.609233Z"
    }
   },
   "outputs": [
    {
     "data": {
      "text/html": [
       "<div>\n",
       "<style scoped>\n",
       "    .dataframe tbody tr th:only-of-type {\n",
       "        vertical-align: middle;\n",
       "    }\n",
       "\n",
       "    .dataframe tbody tr th {\n",
       "        vertical-align: top;\n",
       "    }\n",
       "\n",
       "    .dataframe thead th {\n",
       "        text-align: right;\n",
       "    }\n",
       "</style>\n",
       "<table border=\"1\" class=\"dataframe\">\n",
       "  <thead>\n",
       "    <tr style=\"text-align: right;\">\n",
       "      <th></th>\n",
       "      <th>depth (m)</th>\n",
       "      <th>latitude (degrees_north)</th>\n",
       "      <th>longitude (degrees_east)</th>\n",
       "      <th>salinity (1)</th>\n",
       "      <th>temperature (Celsius)</th>\n",
       "    </tr>\n",
       "    <tr>\n",
       "      <th>time (UTC)</th>\n",
       "      <th></th>\n",
       "      <th></th>\n",
       "      <th></th>\n",
       "      <th></th>\n",
       "      <th></th>\n",
       "    </tr>\n",
       "  </thead>\n",
       "  <tbody>\n",
       "    <tr>\n",
       "      <th>2016-09-03 20:15:46+00:00</th>\n",
       "      <td>5.35</td>\n",
       "      <td>40.990881</td>\n",
       "      <td>-71.12439</td>\n",
       "      <td>32.245422</td>\n",
       "      <td>20.6620</td>\n",
       "    </tr>\n",
       "    <tr>\n",
       "      <th>2016-09-03 20:15:46+00:00</th>\n",
       "      <td>6.09</td>\n",
       "      <td>40.990881</td>\n",
       "      <td>-71.12439</td>\n",
       "      <td>32.223183</td>\n",
       "      <td>20.6512</td>\n",
       "    </tr>\n",
       "    <tr>\n",
       "      <th>2016-09-03 20:15:46+00:00</th>\n",
       "      <td>6.72</td>\n",
       "      <td>40.990881</td>\n",
       "      <td>-71.12439</td>\n",
       "      <td>32.237950</td>\n",
       "      <td>20.6047</td>\n",
       "    </tr>\n",
       "    <tr>\n",
       "      <th>2016-09-03 20:15:46+00:00</th>\n",
       "      <td>7.37</td>\n",
       "      <td>40.990881</td>\n",
       "      <td>-71.12439</td>\n",
       "      <td>32.235470</td>\n",
       "      <td>20.5843</td>\n",
       "    </tr>\n",
       "    <tr>\n",
       "      <th>2016-09-03 20:15:46+00:00</th>\n",
       "      <td>8.43</td>\n",
       "      <td>40.990881</td>\n",
       "      <td>-71.12439</td>\n",
       "      <td>32.224503</td>\n",
       "      <td>20.5691</td>\n",
       "    </tr>\n",
       "  </tbody>\n",
       "</table>\n",
       "</div>"
      ],
      "text/plain": [
       "                           depth (m)  latitude (degrees_north)  \\\n",
       "time (UTC)                                                       \n",
       "2016-09-03 20:15:46+00:00       5.35                 40.990881   \n",
       "2016-09-03 20:15:46+00:00       6.09                 40.990881   \n",
       "2016-09-03 20:15:46+00:00       6.72                 40.990881   \n",
       "2016-09-03 20:15:46+00:00       7.37                 40.990881   \n",
       "2016-09-03 20:15:46+00:00       8.43                 40.990881   \n",
       "\n",
       "                           longitude (degrees_east)  salinity (1)  \\\n",
       "time (UTC)                                                          \n",
       "2016-09-03 20:15:46+00:00                 -71.12439     32.245422   \n",
       "2016-09-03 20:15:46+00:00                 -71.12439     32.223183   \n",
       "2016-09-03 20:15:46+00:00                 -71.12439     32.237950   \n",
       "2016-09-03 20:15:46+00:00                 -71.12439     32.235470   \n",
       "2016-09-03 20:15:46+00:00                 -71.12439     32.224503   \n",
       "\n",
       "                           temperature (Celsius)  \n",
       "time (UTC)                                        \n",
       "2016-09-03 20:15:46+00:00                20.6620  \n",
       "2016-09-03 20:15:46+00:00                20.6512  \n",
       "2016-09-03 20:15:46+00:00                20.6047  \n",
       "2016-09-03 20:15:46+00:00                20.5843  \n",
       "2016-09-03 20:15:46+00:00                20.5691  "
      ]
     },
     "execution_count": 2,
     "metadata": {},
     "output_type": "execute_result"
    }
   ],
   "source": [
    "e.dataset_id = \"whoi_406-20160902T1700\"\n",
    "\n",
    "e.variables = [\n",
    "    \"depth\",\n",
    "    \"latitude\",\n",
    "    \"longitude\",\n",
    "    \"salinity\",\n",
    "    \"temperature\",\n",
    "    \"time\",\n",
    "]\n",
    "\n",
    "e.constraints = {\n",
    "    \"time>=\": \"2016-09-03T00:00:00Z\",\n",
    "    \"time<=\": \"2016-09-04T00:00:00Z\",\n",
    "    \"latitude>=\": 38.0,\n",
    "    \"latitude<=\": 41.0,\n",
    "    \"longitude>=\": -72.0,\n",
    "    \"longitude<=\": -69.0,\n",
    "}\n",
    "\n",
    "\n",
    "df = e.to_pandas(\n",
    "    index_col=\"time (UTC)\",\n",
    "    parse_dates=True,\n",
    ").dropna()\n",
    "\n",
    "df.head()"
   ]
  }
 ],
 "metadata": {
  "_draft": {
   "nbviewer_url": "https://gist.github.com/7e5eab16282538d11fdab7de5bd0c474"
  },
  "gist": {
   "data": {
    "description": "ERDDAP_advanced_glider_search.ipynb",
    "public": true
   },
   "id": "7e5eab16282538d11fdab7de5bd0c474"
  },
  "gist_id": "3f0f25b13ade0c64c84607bd92903d1b",
  "kernelspec": {
   "display_name": "Python 3",
   "language": "python",
   "name": "python3"
  },
  "language_info": {
   "codemirror_mode": {
    "name": "ipython",
    "version": 3
   },
   "file_extension": ".py",
   "mimetype": "text/x-python",
   "name": "python",
   "nbconvert_exporter": "python",
   "pygments_lexer": "ipython3",
   "version": "3.9.6"
  }
 },
 "nbformat": 4,
 "nbformat_minor": 1
}
