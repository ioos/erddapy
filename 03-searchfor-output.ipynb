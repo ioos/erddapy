{
 "cells": [
  {
   "cell_type": "markdown",
   "metadata": {},
   "source": [
    "# Searching datasets\n",
    "\n",
    "erddapy can wrap the same form-like search capabilities of ERDDAP with the\n",
    "_search_for_ keyword.\n"
   ]
  },
  {
   "cell_type": "code",
   "execution_count": 1,
   "metadata": {
    "execution": {
     "iopub.execute_input": "2021-08-16T17:44:36.415800Z",
     "iopub.status.busy": "2021-08-16T17:44:36.414710Z",
     "iopub.status.idle": "2021-08-16T17:44:36.999497Z",
     "shell.execute_reply": "2021-08-16T17:44:36.998751Z"
    }
   },
   "outputs": [],
   "source": [
    "from erddapy import ERDDAP\n",
    "\n",
    "\n",
    "e = ERDDAP(server=\"https://upwell.pfeg.noaa.gov/erddap\", protocol=\"griddap\")"
   ]
  },
  {
   "cell_type": "markdown",
   "metadata": {},
   "source": [
    "Single word search.\n"
   ]
  },
  {
   "cell_type": "code",
   "execution_count": 2,
   "metadata": {
    "execution": {
     "iopub.execute_input": "2021-08-16T17:44:37.011811Z",
     "iopub.status.busy": "2021-08-16T17:44:37.011203Z",
     "iopub.status.idle": "2021-08-16T17:44:39.176456Z",
     "shell.execute_reply": "2021-08-16T17:44:39.176957Z"
    }
   },
   "outputs": [
    {
     "data": {
      "text/plain": [
       "0     erdC1sfc_LonPM180\n",
       "1     erdCB25h_LonPM180\n",
       "2     erdCM25h_LonPM180\n",
       "3     erdCMnma_LonPM180\n",
       "4     erdCS25h_LonPM180\n",
       "5     erdCA25h_LonPM180\n",
       "6     erdCSsfc_LonPM180\n",
       "7     erdCBsfc_LonPM180\n",
       "8     erdCAsfc_LonPM180\n",
       "9     erdCAnma_LonPM180\n",
       "10             erdC125h\n",
       "11             erdC1nma\n",
       "12             erdC1sfc\n",
       "13             erdCA25h\n",
       "14             erdCAnma\n",
       "15             erdCAsfc\n",
       "16             erdCB25h\n",
       "17             erdCBsfc\n",
       "18             erdCM25h\n",
       "19             erdCMnma\n",
       "20             erdCMsfc\n",
       "21             erdCS25h\n",
       "22             erdCSsfc\n",
       "23    erdC125h_LonPM180\n",
       "24    erdC1nma_LonPM180\n",
       "25    erdCMsfc_LonPM180\n",
       "26            ucsdHfrH1\n",
       "27            ucsdHfrE2\n",
       "28            ucsdHfrE6\n",
       "29            ucsdHfrW1\n",
       "30            ucsdHfrW2\n",
       "31          ucsdHfrW500\n",
       "32            ucsdHfrW6\n",
       "33            ucsdHfrA6\n",
       "34            ucsdHfrP2\n",
       "35            ucsdHfrP6\n",
       "36            ucsdHfrE1\n",
       "Name: Dataset ID, dtype: object"
      ]
     },
     "execution_count": 2,
     "metadata": {},
     "output_type": "execute_result"
    }
   ],
   "source": [
    "import pandas as pd\n",
    "\n",
    "search_for = \"HFRadar\"\n",
    "\n",
    "url = e.get_search_url(search_for=search_for, response=\"csv\")\n",
    "\n",
    "pd.read_csv(url)[\"Dataset ID\"]"
   ]
  },
  {
   "cell_type": "markdown",
   "metadata": {},
   "source": [
    "Filtering the search with extra words.\n"
   ]
  },
  {
   "cell_type": "code",
   "execution_count": 3,
   "metadata": {
    "execution": {
     "iopub.execute_input": "2021-08-16T17:44:39.189196Z",
     "iopub.status.busy": "2021-08-16T17:44:39.188713Z",
     "iopub.status.idle": "2021-08-16T17:44:40.290262Z",
     "shell.execute_reply": "2021-08-16T17:44:40.288728Z"
    }
   },
   "outputs": [
    {
     "data": {
      "text/plain": [
       "0    ucsdHfrE2\n",
       "1    ucsdHfrW2\n",
       "2    ucsdHfrP2\n",
       "Name: Dataset ID, dtype: object"
      ]
     },
     "execution_count": 3,
     "metadata": {},
     "output_type": "execute_result"
    }
   ],
   "source": [
    "search_for = \"HFRadar 2km\"\n",
    "\n",
    "url = e.get_search_url(search_for=search_for, response=\"csv\")\n",
    "\n",
    "pd.read_csv(url)[\"Dataset ID\"]"
   ]
  },
  {
   "cell_type": "markdown",
   "metadata": {},
   "source": [
    "Filtering the search with words that should **not** be found.\n"
   ]
  },
  {
   "cell_type": "code",
   "execution_count": 4,
   "metadata": {
    "execution": {
     "iopub.execute_input": "2021-08-16T17:44:40.311467Z",
     "iopub.status.busy": "2021-08-16T17:44:40.300060Z",
     "iopub.status.idle": "2021-08-16T17:44:41.680234Z",
     "shell.execute_reply": "2021-08-16T17:44:41.682049Z"
    }
   },
   "outputs": [
    {
     "data": {
      "text/plain": [
       "0       ucsdHfrH1\n",
       "1       ucsdHfrE2\n",
       "2       ucsdHfrE6\n",
       "3       ucsdHfrW1\n",
       "4       ucsdHfrW2\n",
       "5     ucsdHfrW500\n",
       "6       ucsdHfrW6\n",
       "7       ucsdHfrA6\n",
       "8       ucsdHfrP2\n",
       "9       ucsdHfrP6\n",
       "10      ucsdHfrE1\n",
       "Name: Dataset ID, dtype: object"
      ]
     },
     "execution_count": 4,
     "metadata": {},
     "output_type": "execute_result"
    }
   ],
   "source": [
    "search_for = \"HFRadar -EXPERIMENTAL\"\n",
    "\n",
    "url = e.get_search_url(search_for=search_for, response=\"csv\")\n",
    "\n",
    "pd.read_csv(url)[\"Dataset ID\"]"
   ]
  },
  {
   "cell_type": "markdown",
   "metadata": {},
   "source": [
    "Quoted search or \"phrase search,\" first let us try the unquoted search.\n"
   ]
  },
  {
   "cell_type": "code",
   "execution_count": 5,
   "metadata": {
    "execution": {
     "iopub.execute_input": "2021-08-16T17:44:41.709617Z",
     "iopub.status.busy": "2021-08-16T17:44:41.708985Z",
     "iopub.status.idle": "2021-08-16T17:44:45.597288Z",
     "shell.execute_reply": "2021-08-16T17:44:45.597792Z"
    },
    "scrolled": true
   },
   "outputs": [
    {
     "data": {
      "text/plain": [
       "485"
      ]
     },
     "execution_count": 5,
     "metadata": {},
     "output_type": "execute_result"
    }
   ],
   "source": [
    "search_for = \"wind speed\"\n",
    "\n",
    "url = e.get_search_url(search_for=search_for, response=\"csv\")\n",
    "\n",
    "len(pd.read_csv(url)[\"Dataset ID\"])"
   ]
  },
  {
   "cell_type": "markdown",
   "metadata": {},
   "source": [
    "Too many datasets because wind, speed, and wind speed are matched. Now let's use\n",
    "the quoted search to reduce the number of results to only wind speed.\n"
   ]
  },
  {
   "cell_type": "code",
   "execution_count": 6,
   "metadata": {
    "execution": {
     "iopub.execute_input": "2021-08-16T17:44:45.609760Z",
     "iopub.status.busy": "2021-08-16T17:44:45.609278Z",
     "iopub.status.idle": "2021-08-16T17:44:49.667799Z",
     "shell.execute_reply": "2021-08-16T17:44:49.668266Z"
    }
   },
   "outputs": [
    {
     "data": {
      "text/plain": [
       "467"
      ]
     },
     "execution_count": 6,
     "metadata": {},
     "output_type": "execute_result"
    }
   ],
   "source": [
    "search_for = '\"wind speed\"'\n",
    "\n",
    "url = e.get_search_url(search_for=search_for, response=\"csv\")\n",
    "\n",
    "len(pd.read_csv(url)[\"Dataset ID\"])"
   ]
  }
 ],
 "metadata": {
  "_draft": {
   "nbviewer_url": "https://gist.github.com/8ec655651bf16b6e0328367caff971c1"
  },
  "gist": {
   "data": {
    "description": "ERDDAP searchFor",
    "public": true
   },
   "id": "8ec655651bf16b6e0328367caff971c1"
  },
  "gist_id": "3f0f25b13ade0c64c84607bd92903d1b",
  "kernelspec": {
   "display_name": "Python 3",
   "language": "python",
   "name": "python3"
  },
  "language_info": {
   "codemirror_mode": {
    "name": "ipython",
    "version": 3
   },
   "file_extension": ".py",
   "mimetype": "text/x-python",
   "name": "python",
   "nbconvert_exporter": "python",
   "pygments_lexer": "ipython3",
   "version": "3.9.6"
  }
 },
 "nbformat": 4,
 "nbformat_minor": 1
}
