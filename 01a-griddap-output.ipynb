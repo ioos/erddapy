{
 "cells": [
  {
   "cell_type": "markdown",
   "metadata": {},
   "source": [
    "# Griddap\n",
    "\n",
    "Erddapy can access gridded datasets, using the server-side subsetting of griddap\n",
    "to download only the parts of a dataset that the user requires\n"
   ]
  },
  {
   "cell_type": "code",
   "execution_count": 1,
   "metadata": {
    "execution": {
     "iopub.execute_input": "2021-08-16T17:26:34.498819Z",
     "iopub.status.busy": "2021-08-16T17:26:34.496510Z",
     "iopub.status.idle": "2021-08-16T17:26:34.995878Z",
     "shell.execute_reply": "2021-08-16T17:26:34.995123Z"
    }
   },
   "outputs": [],
   "source": [
    "from erddapy import ERDDAP"
   ]
  },
  {
   "cell_type": "markdown",
   "metadata": {},
   "source": [
    "When accessing gridded datasets, the kwarg `protocol='griddap'` must be used\n"
   ]
  },
  {
   "cell_type": "code",
   "execution_count": 2,
   "metadata": {
    "execution": {
     "iopub.execute_input": "2021-08-16T17:26:35.002062Z",
     "iopub.status.busy": "2021-08-16T17:26:35.001303Z",
     "iopub.status.idle": "2021-08-16T17:26:35.004250Z",
     "shell.execute_reply": "2021-08-16T17:26:35.003642Z"
    },
    "pycharm": {
     "name": "#%%\n"
    }
   },
   "outputs": [],
   "source": [
    "e = ERDDAP(\n",
    "    server=\"CSWC\",  # CoastWatch West Coast Node\n",
    "    protocol=\"griddap\",\n",
    ")\n",
    "e.dataset_id = (\n",
    "    \"jplAvisoSshMon\"  #  AVISO Model Output, obs4MIPs NASA-JPL, Global, 1 Degree\n",
    ")"
   ]
  },
  {
   "cell_type": "markdown",
   "metadata": {},
   "source": [
    "Information on the griddap dataset is fetched with `griddap_initialize`. This\n",
    "fills the `variables` and `constraints` properties for that dataset\n"
   ]
  },
  {
   "cell_type": "code",
   "execution_count": 3,
   "metadata": {
    "execution": {
     "iopub.execute_input": "2021-08-16T17:26:35.010863Z",
     "iopub.status.busy": "2021-08-16T17:26:35.009788Z",
     "iopub.status.idle": "2021-08-16T17:35:20.391622Z",
     "shell.execute_reply": "2021-08-16T17:35:20.390015Z"
    }
   },
   "outputs": [
    {
     "name": "stdout",
     "output_type": "stream",
     "text": [
      "variables in this dataset:\n",
      "\n",
      "['sshag', 'nObs', 'stdErr']\n",
      "\n",
      "constraints of this dataset:\n",
      "\n",
      "{\n",
      " \"time>=\": \"2010-12-16T12:00:00Z\",\n",
      " \"time<=\": \"2010-12-16T12:00:00Z\",\n",
      " \"time_step\": 1,\n",
      " \"latitude>=\": -89.5,\n",
      " \"latitude<=\": 89.5,\n",
      " \"latitude_step\": 1,\n",
      " \"longitude>=\": 0.5,\n",
      " \"longitude<=\": 359.5,\n",
      " \"longitude_step\": 1\n",
      "}\n"
     ]
    }
   ],
   "source": [
    "e.griddap_initialize()\n",
    "\n",
    "import json\n",
    "\n",
    "print(f\"variables in this dataset:\\n\\n{e.variables}\")\n",
    "print(\n",
    "    f\"\\nconstraints of this dataset:\\n\\n{json.dumps(e.constraints, indent=1)}\"\n",
    ")"
   ]
  },
  {
   "cell_type": "markdown",
   "metadata": {},
   "source": [
    "The default behaviour is to use erddap standard subsetting: return all variables\n",
    "at the most recent timestep and every point of the remaining dimensions.\n",
    "\n",
    "This can result in large datasets, the values of the constraints can be changed,\n",
    "and variables dropped before data set is downloaded\n"
   ]
  },
  {
   "cell_type": "code",
   "execution_count": 4,
   "metadata": {
    "execution": {
     "iopub.execute_input": "2021-08-16T17:35:20.402284Z",
     "iopub.status.busy": "2021-08-16T17:35:20.400964Z",
     "iopub.status.idle": "2021-08-16T17:35:20.405927Z",
     "shell.execute_reply": "2021-08-16T17:35:20.405083Z"
    }
   },
   "outputs": [
    {
     "name": "stdout",
     "output_type": "stream",
     "text": [
      "variables for download:\n",
      "\n",
      "['sshag', 'nObs']\n"
     ]
    }
   ],
   "source": [
    "e.variables = e.variables[:2]\n",
    "print(f\"variables for download:\\n\\n{e.variables}\")"
   ]
  },
  {
   "cell_type": "code",
   "execution_count": 5,
   "metadata": {
    "execution": {
     "iopub.execute_input": "2021-08-16T17:35:20.411830Z",
     "iopub.status.busy": "2021-08-16T17:35:20.411191Z",
     "iopub.status.idle": "2021-08-16T17:35:20.413984Z",
     "shell.execute_reply": "2021-08-16T17:35:20.414511Z"
    }
   },
   "outputs": [
    {
     "name": "stdout",
     "output_type": "stream",
     "text": [
      "\n",
      "constraints for download:\n",
      "\n",
      "{\n",
      " \"time>=\": \"2010-12-16T12:00:00Z\",\n",
      " \"time<=\": \"2010-12-16T12:00:00Z\",\n",
      " \"time_step\": 1,\n",
      " \"latitude>=\": -89.5,\n",
      " \"latitude<=\": 89.5,\n",
      " \"latitude_step\": 1,\n",
      " \"longitude>=\": 0.5,\n",
      " \"longitude<=\": 359.5,\n",
      " \"longitude_step\": 1\n",
      "}\n"
     ]
    }
   ],
   "source": [
    "e.constraints[\"latitude_step\"] = 1\n",
    "e.constraints[\"longitude_step\"] = 1\n",
    "\n",
    "print(f\"\\nconstraints for download:\\n\\n{json.dumps(e.constraints, indent=1)}\")"
   ]
  },
  {
   "cell_type": "markdown",
   "metadata": {},
   "source": [
    "Once the query is prepared, data can be downloaded to xarray DataSet, pandas\n",
    "DataFrame and more\n"
   ]
  },
  {
   "cell_type": "code",
   "execution_count": 6,
   "metadata": {
    "execution": {
     "iopub.execute_input": "2021-08-16T17:35:20.418324Z",
     "iopub.status.busy": "2021-08-16T17:35:20.417718Z",
     "iopub.status.idle": "2021-08-16T17:37:41.173883Z",
     "shell.execute_reply": "2021-08-16T17:37:41.173387Z"
    }
   },
   "outputs": [],
   "source": [
    "ds = e.to_xarray()"
   ]
  },
  {
   "cell_type": "markdown",
   "metadata": {},
   "source": [
    "Once downloaded, data can be quickly visualised with xarray's inbuilt plotting\n",
    "functionality\n"
   ]
  },
  {
   "cell_type": "code",
   "execution_count": 7,
   "metadata": {
    "execution": {
     "iopub.execute_input": "2021-08-16T17:37:41.179124Z",
     "iopub.status.busy": "2021-08-16T17:37:41.178665Z",
     "iopub.status.idle": "2021-08-16T17:37:41.700566Z",
     "shell.execute_reply": "2021-08-16T17:37:41.701395Z"
    }
   },
   "outputs": [
    {
     "data": {
      "text/plain": [
       "<matplotlib.collections.QuadMesh at 0x7feea1d932b0>"
      ]
     },
     "execution_count": 7,
     "metadata": {},
     "output_type": "execute_result"
    },
    {
     "data": {
      "image/png": "[encoded data removed]",
      "text/plain": [
       "<Figure size 432x288 with 2 Axes>"
      ]
     },
     "metadata": {
      "needs_background": "light"
     },
     "output_type": "display_data"
    }
   ],
   "source": [
    "ds[\"sshag\"].plot()"
   ]
  },
  {
   "cell_type": "markdown",
   "metadata": {},
   "source": [
    "### Skip subsetting\n",
    "\n",
    "ERDDAP server-side subsetting can be avoided by specifying the opendap protocol.\n",
    "This is a good choice if you intend to use a full dataset or take several slices\n",
    "from the same dataset\n"
   ]
  },
  {
   "cell_type": "code",
   "execution_count": 8,
   "metadata": {
    "execution": {
     "iopub.execute_input": "2021-08-16T17:37:41.706318Z",
     "iopub.status.busy": "2021-08-16T17:37:41.705716Z",
     "iopub.status.idle": "2021-08-16T17:37:41.708088Z",
     "shell.execute_reply": "2021-08-16T17:37:41.707621Z"
    }
   },
   "outputs": [],
   "source": [
    "e = ERDDAP(\n",
    "    server=\"CSWC\",  # CoastWatch West Coast Node\n",
    "    protocol=\"griddap\",\n",
    "    response=\"opendap\",\n",
    ")\n",
    "e.dataset_id = \"jplAquariusSSS3MonthV5\"  # Aquarius Sea Surface Salinity, L3 SMI, Version 5, 1.0°, Global,"
   ]
  },
  {
   "cell_type": "markdown",
   "metadata": {},
   "source": [
    "The data can be downloaded immediately, no need to run `griddap_initialize`\n"
   ]
  },
  {
   "cell_type": "code",
   "execution_count": 9,
   "metadata": {
    "execution": {
     "iopub.execute_input": "2021-08-16T17:37:41.716792Z",
     "iopub.status.busy": "2021-08-16T17:37:41.713138Z",
     "iopub.status.idle": "2021-08-16T17:40:07.316644Z",
     "shell.execute_reply": "2021-08-16T17:40:07.315797Z"
    }
   },
   "outputs": [],
   "source": [
    "ds = e.to_xarray()"
   ]
  },
  {
   "cell_type": "code",
   "execution_count": 10,
   "metadata": {
    "execution": {
     "iopub.execute_input": "2021-08-16T17:40:07.338314Z",
     "iopub.status.busy": "2021-08-16T17:40:07.337369Z",
     "iopub.status.idle": "2021-08-16T17:40:07.354034Z",
     "shell.execute_reply": "2021-08-16T17:40:07.353487Z"
    }
   },
   "outputs": [
    {
     "data": {
      "text/html": [
       "<div><svg style=\"position: absolute; width: 0; height: 0; overflow: hidden\">\n",
       "<defs>\n",
       "<symbol id=\"icon-database\" viewBox=\"0 0 32 32\">\n",
       "<path d=\"M16 0c-8.837 0-16 2.239-16 5v4c0 2.761 7.163 5 16 5s16-2.239 16-5v-4c0-2.761-7.163-5-16-5z\"></path>\n",
       "<path d=\"M16 17c-8.837 0-16-2.239-16-5v6c0 2.761 7.163 5 16 5s16-2.239 16-5v-6c0 2.761-7.163 5-16 5z\"></path>\n",
       "<path d=\"M16 26c-8.837 0-16-2.239-16-5v6c0 2.761 7.163 5 16 5s16-2.239 16-5v-6c0 2.761-7.163 5-16 5z\"></path>\n",
       "</symbol>\n",
       "<symbol id=\"icon-file-text2\" viewBox=\"0 0 32 32\">\n",
       "<path d=\"M28.681 7.159c-0.694-0.947-1.662-2.053-2.724-3.116s-2.169-2.030-3.116-2.724c-1.612-1.182-2.393-1.319-2.841-1.319h-15.5c-1.378 0-2.5 1.121-2.5 2.5v27c0 1.378 1.122 2.5 2.5 2.5h23c1.378 0 2.5-1.122 2.5-2.5v-19.5c0-0.448-0.137-1.23-1.319-2.841zM24.543 5.457c0.959 0.959 1.712 1.825 2.268 2.543h-4.811v-4.811c0.718 0.556 1.584 1.309 2.543 2.268zM28 29.5c0 0.271-0.229 0.5-0.5 0.5h-23c-0.271 0-0.5-0.229-0.5-0.5v-27c0-0.271 0.229-0.5 0.5-0.5 0 0 15.499-0 15.5 0v7c0 0.552 0.448 1 1 1h7v19.5z\"></path>\n",
       "<path d=\"M23 26h-14c-0.552 0-1-0.448-1-1s0.448-1 1-1h14c0.552 0 1 0.448 1 1s-0.448 1-1 1z\"></path>\n",
       "<path d=\"M23 22h-14c-0.552 0-1-0.448-1-1s0.448-1 1-1h14c0.552 0 1 0.448 1 1s-0.448 1-1 1z\"></path>\n",
       "<path d=\"M23 18h-14c-0.552 0-1-0.448-1-1s0.448-1 1-1h14c0.552 0 1 0.448 1 1s-0.448 1-1 1z\"></path>\n",
       "</symbol>\n",
       "</defs>\n",
       "</svg>\n",
       "<style>/* CSS stylesheet for displaying xarray objects in jupyterlab.\n",
       " *\n",
       " */\n",
       "\n",
       ":root {\n",
       "  --xr-font-color0: var(--jp-content-font-color0, rgba(0, 0, 0, 1));\n",
       "  --xr-font-color2: var(--jp-content-font-color2, rgba(0, 0, 0, 0.54));\n",
       "  --xr-font-color3: var(--jp-content-font-color3, rgba(0, 0, 0, 0.38));\n",
       "  --xr-border-color: var(--jp-border-color2, #e0e0e0);\n",
       "  --xr-disabled-color: var(--jp-layout-color3, #bdbdbd);\n",
       "  --xr-background-color: var(--jp-layout-color0, white);\n",
       "  --xr-background-color-row-even: var(--jp-layout-color1, white);\n",
       "  --xr-background-color-row-odd: var(--jp-layout-color2, #eeeeee);\n",
       "}\n",
       "\n",
       "html[theme=dark],\n",
       "body.vscode-dark {\n",
       "  --xr-font-color0: rgba(255, 255, 255, 1);\n",
       "  --xr-font-color2: rgba(255, 255, 255, 0.54);\n",
       "  --xr-font-color3: rgba(255, 255, 255, 0.38);\n",
       "  --xr-border-color: #1F1F1F;\n",
       "  --xr-disabled-color: #515151;\n",
       "  --xr-background-color: #111111;\n",
       "  --xr-background-color-row-even: #111111;\n",
       "  --xr-background-color-row-odd: #313131;\n",
       "}\n",
       "\n",
       ".xr-wrap {\n",
       "  display: block;\n",
       "  min-width: 300px;\n",
       "  max-width: 700px;\n",
       "}\n",
       "\n",
       ".xr-text-repr-fallback {\n",
       "  /* fallback to plain text repr when CSS is not injected (untrusted notebook) */\n",
       "  display: none;\n",
       "}\n",
       "\n",
       ".xr-header {\n",
       "  padding-top: 6px;\n",
       "  padding-bottom: 6px;\n",
       "  margin-bottom: 4px;\n",
       "  border-bottom: solid 1px var(--xr-border-color);\n",
       "}\n",
       "\n",
       ".xr-header > div,\n",
       ".xr-header > ul {\n",
       "  display: inline;\n",
       "  margin-top: 0;\n",
       "  margin-bottom: 0;\n",
       "}\n",
       "\n",
       ".xr-obj-type,\n",
       ".xr-array-name {\n",
       "  margin-left: 2px;\n",
       "  margin-right: 10px;\n",
       "}\n",
       "\n",
       ".xr-obj-type {\n",
       "  color: var(--xr-font-color2);\n",
       "}\n",
       "\n",
       ".xr-sections {\n",
       "  padding-left: 0 !important;\n",
       "  display: grid;\n",
       "  grid-template-columns: 150px auto auto 1fr 20px 20px;\n",
       "}\n",
       "\n",
       ".xr-section-item {\n",
       "  display: contents;\n",
       "}\n",
       "\n",
       ".xr-section-item input {\n",
       "  display: none;\n",
       "}\n",
       "\n",
       ".xr-section-item input + label {\n",
       "  color: var(--xr-disabled-color);\n",
       "}\n",
       "\n",
       ".xr-section-item input:enabled + label {\n",
       "  cursor: pointer;\n",
       "  color: var(--xr-font-color2);\n",
       "}\n",
       "\n",
       ".xr-section-item input:enabled + label:hover {\n",
       "  color: var(--xr-font-color0);\n",
       "}\n",
       "\n",
       ".xr-section-summary {\n",
       "  grid-column: 1;\n",
       "  color: var(--xr-font-color2);\n",
       "  font-weight: 500;\n",
       "}\n",
       "\n",
       ".xr-section-summary > span {\n",
       "  display: inline-block;\n",
       "  padding-left: 0.5em;\n",
       "}\n",
       "\n",
       ".xr-section-summary-in:disabled + label {\n",
       "  color: var(--xr-font-color2);\n",
       "}\n",
       "\n",
       ".xr-section-summary-in + label:before {\n",
       "  display: inline-block;\n",
       "  content: '►';\n",
       "  font-size: 11px;\n",
       "  width: 15px;\n",
       "  text-align: center;\n",
       "}\n",
       "\n",
       ".xr-section-summary-in:disabled + label:before {\n",
       "  color: var(--xr-disabled-color);\n",
       "}\n",
       "\n",
       ".xr-section-summary-in:checked + label:before {\n",
       "  content: '▼';\n",
       "}\n",
       "\n",
       ".xr-section-summary-in:checked + label > span {\n",
       "  display: none;\n",
       "}\n",
       "\n",
       ".xr-section-summary,\n",
       ".xr-section-inline-details {\n",
       "  padding-top: 4px;\n",
       "  padding-bottom: 4px;\n",
       "}\n",
       "\n",
       ".xr-section-inline-details {\n",
       "  grid-column: 2 / -1;\n",
       "}\n",
       "\n",
       ".xr-section-details {\n",
       "  display: none;\n",
       "  grid-column: 1 / -1;\n",
       "  margin-bottom: 5px;\n",
       "}\n",
       "\n",
       ".xr-section-summary-in:checked ~ .xr-section-details {\n",
       "  display: contents;\n",
       "}\n",
       "\n",
       ".xr-array-wrap {\n",
       "  grid-column: 1 / -1;\n",
       "  display: grid;\n",
       "  grid-template-columns: 20px auto;\n",
       "}\n",
       "\n",
       ".xr-array-wrap > label {\n",
       "  grid-column: 1;\n",
       "  vertical-align: top;\n",
       "}\n",
       "\n",
       ".xr-preview {\n",
       "  color: var(--xr-font-color3);\n",
       "}\n",
       "\n",
       ".xr-array-preview,\n",
       ".xr-array-data {\n",
       "  padding: 0 5px !important;\n",
       "  grid-column: 2;\n",
       "}\n",
       "\n",
       ".xr-array-data,\n",
       ".xr-array-in:checked ~ .xr-array-preview {\n",
       "  display: none;\n",
       "}\n",
       "\n",
       ".xr-array-in:checked ~ .xr-array-data,\n",
       ".xr-array-preview {\n",
       "  display: inline-block;\n",
       "}\n",
       "\n",
       ".xr-dim-list {\n",
       "  display: inline-block !important;\n",
       "  list-style: none;\n",
       "  padding: 0 !important;\n",
       "  margin: 0;\n",
       "}\n",
       "\n",
       ".xr-dim-list li {\n",
       "  display: inline-block;\n",
       "  padding: 0;\n",
       "  margin: 0;\n",
       "}\n",
       "\n",
       ".xr-dim-list:before {\n",
       "  content: '(';\n",
       "}\n",
       "\n",
       ".xr-dim-list:after {\n",
       "  content: ')';\n",
       "}\n",
       "\n",
       ".xr-dim-list li:not(:last-child):after {\n",
       "  content: ',';\n",
       "  padding-right: 5px;\n",
       "}\n",
       "\n",
       ".xr-has-index {\n",
       "  font-weight: bold;\n",
       "}\n",
       "\n",
       ".xr-var-list,\n",
       ".xr-var-item {\n",
       "  display: contents;\n",
       "}\n",
       "\n",
       ".xr-var-item > div,\n",
       ".xr-var-item label,\n",
       ".xr-var-item > .xr-var-name span {\n",
       "  background-color: var(--xr-background-color-row-even);\n",
       "  margin-bottom: 0;\n",
       "}\n",
       "\n",
       ".xr-var-item > .xr-var-name:hover span {\n",
       "  padding-right: 5px;\n",
       "}\n",
       "\n",
       ".xr-var-list > li:nth-child(odd) > div,\n",
       ".xr-var-list > li:nth-child(odd) > label,\n",
       ".xr-var-list > li:nth-child(odd) > .xr-var-name span {\n",
       "  background-color: var(--xr-background-color-row-odd);\n",
       "}\n",
       "\n",
       ".xr-var-name {\n",
       "  grid-column: 1;\n",
       "}\n",
       "\n",
       ".xr-var-dims {\n",
       "  grid-column: 2;\n",
       "}\n",
       "\n",
       ".xr-var-dtype {\n",
       "  grid-column: 3;\n",
       "  text-align: right;\n",
       "  color: var(--xr-font-color2);\n",
       "}\n",
       "\n",
       ".xr-var-preview {\n",
       "  grid-column: 4;\n",
       "}\n",
       "\n",
       ".xr-var-name,\n",
       ".xr-var-dims,\n",
       ".xr-var-dtype,\n",
       ".xr-preview,\n",
       ".xr-attrs dt {\n",
       "  white-space: nowrap;\n",
       "  overflow: hidden;\n",
       "  text-overflow: ellipsis;\n",
       "  padding-right: 10px;\n",
       "}\n",
       "\n",
       ".xr-var-name:hover,\n",
       ".xr-var-dims:hover,\n",
       ".xr-var-dtype:hover,\n",
       ".xr-attrs dt:hover {\n",
       "  overflow: visible;\n",
       "  width: auto;\n",
       "  z-index: 1;\n",
       "}\n",
       "\n",
       ".xr-var-attrs,\n",
       ".xr-var-data {\n",
       "  display: none;\n",
       "  background-color: var(--xr-background-color) !important;\n",
       "  padding-bottom: 5px !important;\n",
       "}\n",
       "\n",
       ".xr-var-attrs-in:checked ~ .xr-var-attrs,\n",
       ".xr-var-data-in:checked ~ .xr-var-data {\n",
       "  display: block;\n",
       "}\n",
       "\n",
       ".xr-var-data > table {\n",
       "  float: right;\n",
       "}\n",
       "\n",
       ".xr-var-name span,\n",
       ".xr-var-data,\n",
       ".xr-attrs {\n",
       "  padding-left: 25px !important;\n",
       "}\n",
       "\n",
       ".xr-attrs,\n",
       ".xr-var-attrs,\n",
       ".xr-var-data {\n",
       "  grid-column: 1 / -1;\n",
       "}\n",
       "\n",
       "dl.xr-attrs {\n",
       "  padding: 0;\n",
       "  margin: 0;\n",
       "  display: grid;\n",
       "  grid-template-columns: 125px auto;\n",
       "}\n",
       "\n",
       ".xr-attrs dt,\n",
       ".xr-attrs dd {\n",
       "  padding: 0;\n",
       "  margin: 0;\n",
       "  float: left;\n",
       "  padding-right: 10px;\n",
       "  width: auto;\n",
       "}\n",
       "\n",
       ".xr-attrs dt {\n",
       "  font-weight: normal;\n",
       "  grid-column: 1;\n",
       "}\n",
       "\n",
       ".xr-attrs dt:hover span {\n",
       "  display: inline-block;\n",
       "  background: var(--xr-background-color);\n",
       "  padding-right: 10px;\n",
       "}\n",
       "\n",
       ".xr-attrs dd {\n",
       "  grid-column: 2;\n",
       "  white-space: pre-wrap;\n",
       "  word-break: break-all;\n",
       "}\n",
       "\n",
       ".xr-icon-database,\n",
       ".xr-icon-file-text2 {\n",
       "  display: inline-block;\n",
       "  vertical-align: middle;\n",
       "  width: 1em;\n",
       "  height: 1.5em !important;\n",
       "  stroke-width: 0;\n",
       "  stroke: currentColor;\n",
       "  fill: currentColor;\n",
       "}\n",
       "</style><pre class='xr-text-repr-fallback'>&lt;xarray.Dataset&gt;\n",
       "Dimensions:    (time: 16, latitude: 180, longitude: 360)\n",
       "Coordinates:\n",
       "  * time       (time) datetime64[ns] 2011-06-21 2011-09-21 ... 2015-03-21\n",
       "  * latitude   (latitude) float64 89.5 88.5 87.5 86.5 ... -87.5 -88.5 -89.5\n",
       "  * longitude  (longitude) float64 -179.5 -178.5 -177.5 ... 177.5 178.5 179.5\n",
       "Data variables:\n",
       "    sss        (time, latitude, longitude) float32 ...\n",
       "Attributes: (12/55)\n",
       "    _lastModified:                     2017-10-22T01:47:49.000Z\n",
       "    cdm_data_type:                     Grid\n",
       "    Conventions:                       CF-1.6, COARDS, ACDD-1.3\n",
       "    creator_email:                     data@oceancolor.gsfc.nasa.gov\n",
       "    creator_name:                      NASA/GSFC/OBPG\n",
       "    creator_type:                      group\n",
       "    ...                                ...\n",
       "    summary:                           This dataset has 3-month composites of...\n",
       "    temporal_range:                    SNAU\n",
       "    time_coverage_end:                 2015-03-21T00:00:00Z\n",
       "    time_coverage_start:               2011-06-21T00:00:00Z\n",
       "    title:                             Aquarius Sea Surface Salinity, L3 SMI,...\n",
       "    Westernmost_Easting:               -179.5</pre><div class='xr-wrap' hidden><div class='xr-header'><div class='xr-obj-type'>xarray.Dataset</div></div><ul class='xr-sections'><li class='xr-section-item'><input id='section-39ee3602-6701-4654-9954-c51b6db084e9' class='xr-section-summary-in' type='checkbox' disabled ><label for='section-39ee3602-6701-4654-9954-c51b6db084e9' class='xr-section-summary'  title='Expand/collapse section'>Dimensions:</label><div class='xr-section-inline-details'><ul class='xr-dim-list'><li><span class='xr-has-index'>time</span>: 16</li><li><span class='xr-has-index'>latitude</span>: 180</li><li><span class='xr-has-index'>longitude</span>: 360</li></ul></div><div class='xr-section-details'></div></li><li class='xr-section-item'><input id='section-db3f96f3-5498-4f5b-99bd-5874344b99f1' class='xr-section-summary-in' type='checkbox'  checked><label for='section-db3f96f3-5498-4f5b-99bd-5874344b99f1' class='xr-section-summary' >Coordinates: <span>(3)</span></label><div class='xr-section-inline-details'></div><div class='xr-section-details'><ul class='xr-var-list'><li class='xr-var-item'><div class='xr-var-name'><span class='xr-has-index'>time</span></div><div class='xr-var-dims'>(time)</div><div class='xr-var-dtype'>datetime64[ns]</div><div class='xr-var-preview xr-preview'>2011-06-21 ... 2015-03-21</div><input id='attrs-4cec360f-988b-4669-8223-17ff5f0aed3d' class='xr-var-attrs-in' type='checkbox' ><label for='attrs-4cec360f-988b-4669-8223-17ff5f0aed3d' title='Show/Hide attributes'><svg class='icon xr-icon-file-text2'><use xlink:href='#icon-file-text2'></use></svg></label><input id='data-a3c20fac-0979-48b3-8d08-47a66844ea9c' class='xr-var-data-in' type='checkbox'><label for='data-a3c20fac-0979-48b3-8d08-47a66844ea9c' title='Show/Hide data repr'><svg class='icon xr-icon-database'><use xlink:href='#icon-database'></use></svg></label><div class='xr-var-attrs'><dl class='xr-attrs'><dt><span>_CoordinateAxisType :</span></dt><dd>Time</dd><dt><span>actual_range :</span></dt><dd>[1.3086144e+09 1.4268960e+09]</dd><dt><span>axis :</span></dt><dd>T</dd><dt><span>ioos_category :</span></dt><dd>Time</dd><dt><span>long_name :</span></dt><dd>Time</dd><dt><span>standard_name :</span></dt><dd>time</dd><dt><span>time_origin :</span></dt><dd>01-JAN-1970 00:00:00</dd></dl></div><div class='xr-var-data'><pre>array([&#x27;2011-06-21T00:00:00.000000000&#x27;, &#x27;2011-09-21T00:00:00.000000000&#x27;,\n",
       "       &#x27;2011-12-21T00:00:00.000000000&#x27;, &#x27;2012-03-21T00:00:00.000000000&#x27;,\n",
       "       &#x27;2012-06-21T00:00:00.000000000&#x27;, &#x27;2012-09-21T00:00:00.000000000&#x27;,\n",
       "       &#x27;2012-12-21T00:00:00.000000000&#x27;, &#x27;2013-03-21T00:00:00.000000000&#x27;,\n",
       "       &#x27;2013-06-21T00:00:00.000000000&#x27;, &#x27;2013-09-21T00:00:00.000000000&#x27;,\n",
       "       &#x27;2013-12-21T00:00:00.000000000&#x27;, &#x27;2014-03-21T00:00:00.000000000&#x27;,\n",
       "       &#x27;2014-06-21T00:00:00.000000000&#x27;, &#x27;2014-09-21T00:00:00.000000000&#x27;,\n",
       "       &#x27;2014-12-21T00:00:00.000000000&#x27;, &#x27;2015-03-21T00:00:00.000000000&#x27;],\n",
       "      dtype=&#x27;datetime64[ns]&#x27;)</pre></div></li><li class='xr-var-item'><div class='xr-var-name'><span class='xr-has-index'>latitude</span></div><div class='xr-var-dims'>(latitude)</div><div class='xr-var-dtype'>float64</div><div class='xr-var-preview xr-preview'>89.5 88.5 87.5 ... -88.5 -89.5</div><input id='attrs-7c413ca0-c6d2-45c3-846c-435d13bf39cc' class='xr-var-attrs-in' type='checkbox' ><label for='attrs-7c413ca0-c6d2-45c3-846c-435d13bf39cc' title='Show/Hide attributes'><svg class='icon xr-icon-file-text2'><use xlink:href='#icon-file-text2'></use></svg></label><input id='data-c1806381-7107-40cb-af99-ca9f24eca14f' class='xr-var-data-in' type='checkbox'><label for='data-c1806381-7107-40cb-af99-ca9f24eca14f' title='Show/Hide data repr'><svg class='icon xr-icon-database'><use xlink:href='#icon-database'></use></svg></label><div class='xr-var-attrs'><dl class='xr-attrs'><dt><span>_CoordinateAxisType :</span></dt><dd>Lat</dd><dt><span>actual_range :</span></dt><dd>[-89.5  89.5]</dd><dt><span>axis :</span></dt><dd>Y</dd><dt><span>ioos_category :</span></dt><dd>Location</dd><dt><span>long_name :</span></dt><dd>Latitude</dd><dt><span>standard_name :</span></dt><dd>latitude</dd><dt><span>units :</span></dt><dd>degrees_north</dd></dl></div><div class='xr-var-data'><pre>array([ 89.5,  88.5,  87.5,  86.5,  85.5,  84.5,  83.5,  82.5,  81.5,  80.5,\n",
       "        79.5,  78.5,  77.5,  76.5,  75.5,  74.5,  73.5,  72.5,  71.5,  70.5,\n",
       "        69.5,  68.5,  67.5,  66.5,  65.5,  64.5,  63.5,  62.5,  61.5,  60.5,\n",
       "        59.5,  58.5,  57.5,  56.5,  55.5,  54.5,  53.5,  52.5,  51.5,  50.5,\n",
       "        49.5,  48.5,  47.5,  46.5,  45.5,  44.5,  43.5,  42.5,  41.5,  40.5,\n",
       "        39.5,  38.5,  37.5,  36.5,  35.5,  34.5,  33.5,  32.5,  31.5,  30.5,\n",
       "        29.5,  28.5,  27.5,  26.5,  25.5,  24.5,  23.5,  22.5,  21.5,  20.5,\n",
       "        19.5,  18.5,  17.5,  16.5,  15.5,  14.5,  13.5,  12.5,  11.5,  10.5,\n",
       "         9.5,   8.5,   7.5,   6.5,   5.5,   4.5,   3.5,   2.5,   1.5,   0.5,\n",
       "        -0.5,  -1.5,  -2.5,  -3.5,  -4.5,  -5.5,  -6.5,  -7.5,  -8.5,  -9.5,\n",
       "       -10.5, -11.5, -12.5, -13.5, -14.5, -15.5, -16.5, -17.5, -18.5, -19.5,\n",
       "       -20.5, -21.5, -22.5, -23.5, -24.5, -25.5, -26.5, -27.5, -28.5, -29.5,\n",
       "       -30.5, -31.5, -32.5, -33.5, -34.5, -35.5, -36.5, -37.5, -38.5, -39.5,\n",
       "       -40.5, -41.5, -42.5, -43.5, -44.5, -45.5, -46.5, -47.5, -48.5, -49.5,\n",
       "       -50.5, -51.5, -52.5, -53.5, -54.5, -55.5, -56.5, -57.5, -58.5, -59.5,\n",
       "       -60.5, -61.5, -62.5, -63.5, -64.5, -65.5, -66.5, -67.5, -68.5, -69.5,\n",
       "       -70.5, -71.5, -72.5, -73.5, -74.5, -75.5, -76.5, -77.5, -78.5, -79.5,\n",
       "       -80.5, -81.5, -82.5, -83.5, -84.5, -85.5, -86.5, -87.5, -88.5, -89.5])</pre></div></li><li class='xr-var-item'><div class='xr-var-name'><span class='xr-has-index'>longitude</span></div><div class='xr-var-dims'>(longitude)</div><div class='xr-var-dtype'>float64</div><div class='xr-var-preview xr-preview'>-179.5 -178.5 ... 178.5 179.5</div><input id='attrs-510ec600-f2e3-4547-a9d9-b0f2bd502a60' class='xr-var-attrs-in' type='checkbox' ><label for='attrs-510ec600-f2e3-4547-a9d9-b0f2bd502a60' title='Show/Hide attributes'><svg class='icon xr-icon-file-text2'><use xlink:href='#icon-file-text2'></use></svg></label><input id='data-99f88d52-66ae-4c57-a01e-ef74301a8654' class='xr-var-data-in' type='checkbox'><label for='data-99f88d52-66ae-4c57-a01e-ef74301a8654' title='Show/Hide data repr'><svg class='icon xr-icon-database'><use xlink:href='#icon-database'></use></svg></label><div class='xr-var-attrs'><dl class='xr-attrs'><dt><span>_CoordinateAxisType :</span></dt><dd>Lon</dd><dt><span>actual_range :</span></dt><dd>[-179.5  179.5]</dd><dt><span>axis :</span></dt><dd>X</dd><dt><span>ioos_category :</span></dt><dd>Location</dd><dt><span>long_name :</span></dt><dd>Longitude</dd><dt><span>standard_name :</span></dt><dd>longitude</dd><dt><span>units :</span></dt><dd>degrees_east</dd></dl></div><div class='xr-var-data'><pre>array([-179.5, -178.5, -177.5, ...,  177.5,  178.5,  179.5])</pre></div></li></ul></div></li><li class='xr-section-item'><input id='section-f17a4da9-4186-4902-bfdc-086ee03a01b8' class='xr-section-summary-in' type='checkbox'  checked><label for='section-f17a4da9-4186-4902-bfdc-086ee03a01b8' class='xr-section-summary' >Data variables: <span>(1)</span></label><div class='xr-section-inline-details'></div><div class='xr-section-details'><ul class='xr-var-list'><li class='xr-var-item'><div class='xr-var-name'><span>sss</span></div><div class='xr-var-dims'>(time, latitude, longitude)</div><div class='xr-var-dtype'>float32</div><div class='xr-var-preview xr-preview'>...</div><input id='attrs-2ebdb708-d1bb-4815-9efc-f449eab2a75e' class='xr-var-attrs-in' type='checkbox' ><label for='attrs-2ebdb708-d1bb-4815-9efc-f449eab2a75e' title='Show/Hide attributes'><svg class='icon xr-icon-file-text2'><use xlink:href='#icon-file-text2'></use></svg></label><input id='data-2986cf72-5264-4752-863c-9c63aaa60601' class='xr-var-data-in' type='checkbox'><label for='data-2986cf72-5264-4752-863c-9c63aaa60601' title='Show/Hide data repr'><svg class='icon xr-icon-database'><use xlink:href='#icon-database'></use></svg></label><div class='xr-var-attrs'><dl class='xr-attrs'><dt><span>colorBarMaximum :</span></dt><dd>37.0</dd><dt><span>colorBarMinimum :</span></dt><dd>32.0</dd><dt><span>ioos_category :</span></dt><dd>Salinity</dd><dt><span>long_name :</span></dt><dd>Sea Water Practical Salinity</dd><dt><span>standard_name :</span></dt><dd>sea_water_practical_salinity</dd><dt><span>units :</span></dt><dd>PSU</dd><dt><span>valid_min :</span></dt><dd>0.0</dd></dl></div><div class='xr-var-data'><pre>[1036800 values with dtype=float32]</pre></div></li></ul></div></li><li class='xr-section-item'><input id='section-97604665-4d65-462e-83c8-408b2d7b927e' class='xr-section-summary-in' type='checkbox'  ><label for='section-97604665-4d65-462e-83c8-408b2d7b927e' class='xr-section-summary' >Attributes: <span>(55)</span></label><div class='xr-section-inline-details'></div><div class='xr-section-details'><dl class='xr-attrs'><dt><span>_lastModified :</span></dt><dd>2017-10-22T01:47:49.000Z</dd><dt><span>cdm_data_type :</span></dt><dd>Grid</dd><dt><span>Conventions :</span></dt><dd>CF-1.6, COARDS, ACDD-1.3</dd><dt><span>creator_email :</span></dt><dd>data@oceancolor.gsfc.nasa.gov</dd><dt><span>creator_name :</span></dt><dd>NASA/GSFC/OBPG</dd><dt><span>creator_type :</span></dt><dd>group</dd><dt><span>creator_url :</span></dt><dd>https://oceandata.sci.gsfc.nasa.gov</dd><dt><span>date_created :</span></dt><dd>2017-10-22T01:48:05Z</dd><dt><span>Easternmost_Easting :</span></dt><dd>179.5</dd><dt><span>geospatial_lat_max :</span></dt><dd>89.5</dd><dt><span>geospatial_lat_min :</span></dt><dd>-89.5</dd><dt><span>geospatial_lat_resolution :</span></dt><dd>1.0</dd><dt><span>geospatial_lat_units :</span></dt><dd>degrees_north</dd><dt><span>geospatial_lon_max :</span></dt><dd>179.5</dd><dt><span>geospatial_lon_min :</span></dt><dd>-179.5</dd><dt><span>geospatial_lon_resolution :</span></dt><dd>1.0</dd><dt><span>geospatial_lon_units :</span></dt><dd>degrees_east</dd><dt><span>grid_mapping_name :</span></dt><dd>latitude_longitude</dd><dt><span>history :</span></dt><dd>smigen par=Q20142642014354.L3m_SNAU_SCI_V5.0_SSS_1deg.param\n",
       "2021-08-16T17:39:52Z https://thredds.jpl.nasa.gov/thredds/dodsC/ncml_aggregation/SalinityDensity/aquarius/aggregate__AQUARIUS_L3_SSS_SMI_3MONTH_V5.ncml\n",
       "2021-08-16T17:39:52Z http://coastwatch.pfeg.noaa.gov/erddap/griddap/jplAquariusSSS3MonthV5.nc</dd><dt><span>id :</span></dt><dd>jplAquariusSSS3MonthV5</dd><dt><span>identifier_product_doi :</span></dt><dd>https://dx.doi.org</dd><dt><span>identifier_product_doi_authority :</span></dt><dd>https://dx.doi.org</dd><dt><span>infoUrl :</span></dt><dd>https://aquarius.nasa.gov/</dd><dt><span>institution :</span></dt><dd>NASA/GSFC OBPG</dd><dt><span>instrument :</span></dt><dd>Aquarius</dd><dt><span>keywords :</span></dt><dd>3month, aquarius, aquarius radiometer, aquarius sac-d, aquarius scatterometer, biology, center, color, data, density, earth, Earth Science &gt; Oceans &gt; Salinity/Density &gt; Salinity, flight, goddard, group, gsfc, https://aquarius.nasa.gov/, image, jet propulsion laboratory, L3, latitude, level, level-3, longitude, mapped, nasa, obpg, ocean, oceans, practical, processing, salinity, science, sea, sea_water_practical_salinity, seawater, smi, space, sss, standard, surface salinity, time, water</dd><dt><span>keywords_vocabulary :</span></dt><dd>GCMD Science Keywords</dd><dt><span>l2_flag_names :</span></dt><dd>POINTING,NAV,LANDRED,ICERED,REFL_1STOKESMOONRED,REFL_1STOKESGAL,TFTADIFFRED,RFI_REGION,SAOVERFLOW,COLDWATERRED,WINDRED,TBCONS</dd><dt><span>license :</span></dt><dd>https://science.nasa.gov/earth-science/earth-science-data/data-information-policy/</dd><dt><span>map_projection :</span></dt><dd>Equidistant Cylindrical</dd><dt><span>measure :</span></dt><dd>Mean</dd><dt><span>naming_authority :</span></dt><dd>gov.noaa.pfeg.coastwatch</dd><dt><span>Northernmost_Northing :</span></dt><dd>89.5</dd><dt><span>platform :</span></dt><dd>SAC-D Aquarius</dd><dt><span>processing_level :</span></dt><dd>L3 Mapped</dd><dt><span>processing_version :</span></dt><dd>V5.0</dd><dt><span>product_name :</span></dt><dd>Q20142642014354.L3m_SNAU_SCI_V5.0_SSS_1deg</dd><dt><span>project :</span></dt><dd>Ocean Biology Processing Group (NASA/GSFC/OBPG)</dd><dt><span>publisher_email :</span></dt><dd>data@oceancolor.gsfc.nasa.gov</dd><dt><span>publisher_name :</span></dt><dd>NASA/GSFC/OBPG</dd><dt><span>publisher_type :</span></dt><dd>group</dd><dt><span>publisher_url :</span></dt><dd>https://oceandata.sci.gsfc.nasa.gov</dd><dt><span>software_name :</span></dt><dd>smigen</dd><dt><span>software_version :</span></dt><dd>5.20</dd><dt><span>source :</span></dt><dd>Q20142642014354.L3b_SNAU_SCI_V5.0.main</dd><dt><span>sourceUrl :</span></dt><dd>https://thredds.jpl.nasa.gov/thredds/dodsC/ncml_aggregation/SalinityDensity/aquarius/aggregate__AQUARIUS_L3_SSS_SMI_3MONTH_V5.ncml</dd><dt><span>Southernmost_Northing :</span></dt><dd>-89.5</dd><dt><span>spatialResolution :</span></dt><dd>1.00 deg</dd><dt><span>standard_name_vocabulary :</span></dt><dd>CF Standard Name Table v70</dd><dt><span>summary :</span></dt><dd>This dataset has 3-month composites of Aquarius Sea Surface Salinity data, version 5. Part of NASA&#x27;s Earth System Science Pathfinder (ESSP) Mission International Partnership between NASA &amp; CONAE, Aquarius provides unprecedented global maps of surface sea water salinity (SSS) to discover how our oceans respond to climate change and the water cycle. Sea surface salinity, along with sea surface temperature, determines the sea surface density. This controls the formation of water masses in the ocean and regulates the 3-dimensional ocean circulation. Aquarius documentation is at ftp://podaac-ftp.jpl.nasa.gov/allData/aquarius/docs</dd><dt><span>temporal_range :</span></dt><dd>SNAU</dd><dt><span>time_coverage_end :</span></dt><dd>2015-03-21T00:00:00Z</dd><dt><span>time_coverage_start :</span></dt><dd>2011-06-21T00:00:00Z</dd><dt><span>title :</span></dt><dd>Aquarius Sea Surface Salinity, L3 SMI, Version 5, 1.0°, Global, 2011-2015, 3-Month</dd><dt><span>Westernmost_Easting :</span></dt><dd>-179.5</dd></dl></div></li></ul></div></div>"
      ],
      "text/plain": [
       "<xarray.Dataset>\n",
       "Dimensions:    (time: 16, latitude: 180, longitude: 360)\n",
       "Coordinates:\n",
       "  * time       (time) datetime64[ns] 2011-06-21 2011-09-21 ... 2015-03-21\n",
       "  * latitude   (latitude) float64 89.5 88.5 87.5 86.5 ... -87.5 -88.5 -89.5\n",
       "  * longitude  (longitude) float64 -179.5 -178.5 -177.5 ... 177.5 178.5 179.5\n",
       "Data variables:\n",
       "    sss        (time, latitude, longitude) float32 ...\n",
       "Attributes: (12/55)\n",
       "    _lastModified:                     2017-10-22T01:47:49.000Z\n",
       "    cdm_data_type:                     Grid\n",
       "    Conventions:                       CF-1.6, COARDS, ACDD-1.3\n",
       "    creator_email:                     data@oceancolor.gsfc.nasa.gov\n",
       "    creator_name:                      NASA/GSFC/OBPG\n",
       "    creator_type:                      group\n",
       "    ...                                ...\n",
       "    summary:                           This dataset has 3-month composites of...\n",
       "    temporal_range:                    SNAU\n",
       "    time_coverage_end:                 2015-03-21T00:00:00Z\n",
       "    time_coverage_start:               2011-06-21T00:00:00Z\n",
       "    title:                             Aquarius Sea Surface Salinity, L3 SMI,...\n",
       "    Westernmost_Easting:               -179.5"
      ]
     },
     "execution_count": 10,
     "metadata": {},
     "output_type": "execute_result"
    }
   ],
   "source": [
    "ds"
   ]
  }
 ],
 "metadata": {
  "kernelspec": {
   "display_name": "Python 3 (ipykernel)",
   "language": "python",
   "name": "python3"
  },
  "language_info": {
   "codemirror_mode": {
    "name": "ipython",
    "version": 3
   },
   "file_extension": ".py",
   "mimetype": "text/x-python",
   "name": "python",
   "nbconvert_exporter": "python",
   "pygments_lexer": "ipython3",
   "version": "3.9.6"
  }
 },
 "nbformat": 4,
 "nbformat_minor": 1
}
