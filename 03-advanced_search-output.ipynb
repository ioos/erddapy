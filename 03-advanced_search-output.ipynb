{
 "cells": [
  {
   "cell_type": "markdown",
   "metadata": {},
   "source": [
    "# Searching datasets\n",
    "\n",
    "erddapy can wrap the same form-like search capabilities of ERDDAP with the\n",
    "_search_for_ keyword.\n"
   ]
  },
  {
   "cell_type": "code",
   "execution_count": 1,
   "metadata": {
    "execution": {
     "iopub.execute_input": "2024-09-18T20:11:19.432629Z",
     "iopub.status.busy": "2024-09-18T20:11:19.432295Z",
     "iopub.status.idle": "2024-09-18T20:11:19.894933Z",
     "shell.execute_reply": "2024-09-18T20:11:19.894499Z"
    }
   },
   "outputs": [],
   "source": [
    "from erddapy import ERDDAP\n",
    "\n",
    "e = ERDDAP(\n",
    "    server=\"https://pae-paha.pacioos.hawaii.edu/erddap\",\n",
    "    protocol=\"griddap\",\n",
    ")"
   ]
  },
  {
   "cell_type": "markdown",
   "metadata": {},
   "source": [
    "Single word search.\n"
   ]
  },
  {
   "cell_type": "code",
   "execution_count": 2,
   "metadata": {
    "execution": {
     "iopub.execute_input": "2024-09-18T20:11:19.896834Z",
     "iopub.status.busy": "2024-09-18T20:11:19.896463Z",
     "iopub.status.idle": "2024-09-18T20:11:20.262612Z",
     "shell.execute_reply": "2024-09-18T20:11:20.262060Z"
    }
   },
   "outputs": [
    {
     "data": {
      "text/plain": [
       "0           etopo1_bedrock\n",
       "1    etopo1_bedrock_lon360\n",
       "2               etopo1_ice\n",
       "3        etopo1_ice_lon360\n",
       "4                   etopo5\n",
       "5            etopo5_lon180\n",
       "Name: Dataset ID, dtype: object"
      ]
     },
     "execution_count": 2,
     "metadata": {},
     "output_type": "execute_result"
    }
   ],
   "source": [
    "import pandas as pd\n",
    "\n",
    "search_for = \"etopo\"\n",
    "\n",
    "url = e.get_search_url(search_for=search_for, response=\"csv\")\n",
    "\n",
    "pd.read_csv(url)[\"Dataset ID\"]"
   ]
  },
  {
   "cell_type": "markdown",
   "metadata": {},
   "source": [
    "Filtering the search with extra words.\n"
   ]
  },
  {
   "cell_type": "code",
   "execution_count": 3,
   "metadata": {
    "execution": {
     "iopub.execute_input": "2024-09-18T20:11:20.288657Z",
     "iopub.status.busy": "2024-09-18T20:11:20.288242Z",
     "iopub.status.idle": "2024-09-18T20:11:20.807127Z",
     "shell.execute_reply": "2024-09-18T20:11:20.806625Z"
    }
   },
   "outputs": [
    {
     "data": {
      "text/plain": [
       "0           etopo5\n",
       "1    etopo5_lon180\n",
       "Name: Dataset ID, dtype: object"
      ]
     },
     "execution_count": 3,
     "metadata": {},
     "output_type": "execute_result"
    }
   ],
   "source": [
    "search_for = \"etopo5\"\n",
    "\n",
    "url = e.get_search_url(search_for=search_for, response=\"csv\")\n",
    "\n",
    "pd.read_csv(url)[\"Dataset ID\"]"
   ]
  },
  {
   "cell_type": "markdown",
   "metadata": {},
   "source": [
    "Filtering the search with words that should **not** be found.\n"
   ]
  },
  {
   "cell_type": "code",
   "execution_count": 4,
   "metadata": {
    "execution": {
     "iopub.execute_input": "2024-09-18T20:11:20.808710Z",
     "iopub.status.busy": "2024-09-18T20:11:20.808545Z",
     "iopub.status.idle": "2024-09-18T20:11:21.661926Z",
     "shell.execute_reply": "2024-09-18T20:11:21.661470Z"
    }
   },
   "outputs": [
    {
     "data": {
      "text/plain": [
       "0           etopo5\n",
       "1    etopo5_lon180\n",
       "Name: Dataset ID, dtype: object"
      ]
     },
     "execution_count": 4,
     "metadata": {},
     "output_type": "execute_result"
    }
   ],
   "source": [
    "search_for = \"etopo5 -lon360\"\n",
    "\n",
    "url = e.get_search_url(search_for=search_for, response=\"csv\")\n",
    "\n",
    "pd.read_csv(url)[\"Dataset ID\"]"
   ]
  },
  {
   "cell_type": "markdown",
   "metadata": {},
   "source": [
    "Quoted search or \"phrase search,\" first let us try the unquoted search.\n"
   ]
  },
  {
   "cell_type": "code",
   "execution_count": 5,
   "metadata": {
    "execution": {
     "iopub.execute_input": "2024-09-18T20:11:21.663759Z",
     "iopub.status.busy": "2024-09-18T20:11:21.663575Z",
     "iopub.status.idle": "2024-09-18T20:11:22.326743Z",
     "shell.execute_reply": "2024-09-18T20:11:22.326291Z"
    },
    "scrolled": true
   },
   "outputs": [
    {
     "data": {
      "text/plain": [
       "69"
      ]
     },
     "execution_count": 5,
     "metadata": {},
     "output_type": "execute_result"
    }
   ],
   "source": [
    "search_for = \"ocean bathymetry\"\n",
    "\n",
    "url = e.get_search_url(search_for=search_for, response=\"csv\")\n",
    "\n",
    "len(pd.read_csv(url)[\"Dataset ID\"])"
   ]
  },
  {
   "cell_type": "markdown",
   "metadata": {},
   "source": [
    "Too many datasets because wind, speed, and wind speed are matched. Now let's use\n",
    "the quoted search to reduce the number of results to only wind speed.\n"
   ]
  },
  {
   "cell_type": "code",
   "execution_count": 6,
   "metadata": {
    "execution": {
     "iopub.execute_input": "2024-09-18T20:11:22.328385Z",
     "iopub.status.busy": "2024-09-18T20:11:22.328052Z",
     "iopub.status.idle": "2024-09-18T20:11:22.806531Z",
     "shell.execute_reply": "2024-09-18T20:11:22.806106Z"
    }
   },
   "outputs": [
    {
     "data": {
      "text/plain": [
       "6"
      ]
     },
     "execution_count": 6,
     "metadata": {},
     "output_type": "execute_result"
    }
   ],
   "source": [
    "search_for = '\"ocean bathymetry\"'\n",
    "\n",
    "url = e.get_search_url(search_for=search_for, response=\"csv\")\n",
    "\n",
    "len(pd.read_csv(url)[\"Dataset ID\"])"
   ]
  },
  {
   "cell_type": "markdown",
   "metadata": {},
   "source": [
    "Another common search operation would be to search multiple servers instead of\n",
    "only one. In erddapy we can achieve that with `search_servers`:"
   ]
  },
  {
   "cell_type": "code",
   "execution_count": 7,
   "metadata": {
    "execution": {
     "iopub.execute_input": "2024-09-18T20:11:22.808183Z",
     "iopub.status.busy": "2024-09-18T20:11:22.807852Z",
     "iopub.status.idle": "2024-09-18T20:12:35.204943Z",
     "shell.execute_reply": "2024-09-18T20:12:35.204371Z"
    }
   },
   "outputs": [],
   "source": [
    "from erddapy.multiple_server_search import search_servers\n",
    "\n",
    "df = search_servers(\n",
    "    query=\"glider\",\n",
    "    servers_list=None,\n",
    "    parallel=True,\n",
    "    protocol=\"tabledap\",\n",
    ")"
   ]
  },
  {
   "cell_type": "code",
   "execution_count": 8,
   "metadata": {
    "execution": {
     "iopub.execute_input": "2024-09-18T20:12:35.206810Z",
     "iopub.status.busy": "2024-09-18T20:12:35.206445Z",
     "iopub.status.idle": "2024-09-18T20:12:35.209700Z",
     "shell.execute_reply": "2024-09-18T20:12:35.209297Z"
    }
   },
   "outputs": [
    {
     "name": "stdout",
     "output_type": "stream",
     "text": [
      "There are 3849 entries in this search!\n"
     ]
    }
   ],
   "source": [
    "print(f\"There are {len(df)} entries in this search!\")"
   ]
  },
  {
   "cell_type": "markdown",
   "metadata": {},
   "source": [
    "These are the servers that have glider data according to our query.\n"
   ]
  },
  {
   "cell_type": "code",
   "execution_count": 9,
   "metadata": {
    "execution": {
     "iopub.execute_input": "2024-09-18T20:12:35.211090Z",
     "iopub.status.busy": "2024-09-18T20:12:35.210911Z",
     "iopub.status.idle": "2024-09-18T20:12:35.214530Z",
     "shell.execute_reply": "2024-09-18T20:12:35.214164Z"
    },
    "scrolled": false
   },
   "outputs": [
    {
     "data": {
      "text/plain": [
       "{'http://erddap.cencoos.org/erddap/',\n",
       " 'http://erddap.secoora.org/erddap/',\n",
       " 'https://cwcgom.aoml.noaa.gov/erddap/',\n",
       " 'https://erddap-goldcopy.dataexplorer.oceanobservatories.org/erddap/',\n",
       " 'https://erddap.griidc.org/erddap/',\n",
       " 'https://erddap.observations.voiceoftheocean.org/erddap/',\n",
       " 'https://erddap.sensors.ioos.us/erddap/',\n",
       " 'https://gliders.ioos.us/erddap/',\n",
       " 'https://www.smartatlantic.ca/erddap/'}"
      ]
     },
     "execution_count": 9,
     "metadata": {},
     "output_type": "execute_result"
    }
   ],
   "source": [
    "set(df[\"Server url\"])"
   ]
  },
  {
   "cell_type": "markdown",
   "metadata": {},
   "source": [
    "One way to reduce is to search a subset of the servers with the `servers_list`\n",
    "argument. We can also use it to search servers that are not part of the awesome\n",
    "ERDDAP list (https://github.com/IrishMarineInstitute/awesome-erddap).\n",
    "\n",
    "One can also perform an advanced search with ERDDAP constraints\n",
    "`advanced_search_servers`.\n"
   ]
  },
  {
   "cell_type": "code",
   "execution_count": 10,
   "metadata": {
    "execution": {
     "iopub.execute_input": "2024-09-18T20:12:35.216013Z",
     "iopub.status.busy": "2024-09-18T20:12:35.215694Z",
     "iopub.status.idle": "2024-09-18T20:12:36.560690Z",
     "shell.execute_reply": "2024-09-18T20:12:36.560214Z"
    }
   },
   "outputs": [
    {
     "data": {
      "text/html": [
       "<div>\n",
       "<style scoped>\n",
       "    .dataframe tbody tr th:only-of-type {\n",
       "        vertical-align: middle;\n",
       "    }\n",
       "\n",
       "    .dataframe tbody tr th {\n",
       "        vertical-align: top;\n",
       "    }\n",
       "\n",
       "    .dataframe thead th {\n",
       "        text-align: right;\n",
       "    }\n",
       "</style>\n",
       "<table border=\"1\" class=\"dataframe\">\n",
       "  <thead>\n",
       "    <tr style=\"text-align: right;\">\n",
       "      <th></th>\n",
       "      <th>Title</th>\n",
       "      <th>Institution</th>\n",
       "      <th>Dataset ID</th>\n",
       "      <th>Server url</th>\n",
       "    </tr>\n",
       "  </thead>\n",
       "  <tbody>\n",
       "    <tr>\n",
       "      <th>0</th>\n",
       "      <td>Coastal Endurance: Oregon Inshore Surface Moor...</td>\n",
       "      <td>Ocean Observatories Initiative (OOI)</td>\n",
       "      <td>ooi-ce01issm-rid16-02-flortd000</td>\n",
       "      <td>https://erddap.dataexplorer.oceanobservatories...</td>\n",
       "    </tr>\n",
       "    <tr>\n",
       "      <th>1</th>\n",
       "      <td>Coastal Endurance: Oregon Inshore Surface Moor...</td>\n",
       "      <td>Ocean Observatories Initiative (OOI)</td>\n",
       "      <td>ooi-ce01issm-rid16-03-ctdbpc000</td>\n",
       "      <td>https://erddap.dataexplorer.oceanobservatories...</td>\n",
       "    </tr>\n",
       "    <tr>\n",
       "      <th>2</th>\n",
       "      <td>Coastal Endurance: Oregon Inshore Surface Moor...</td>\n",
       "      <td>Ocean Observatories Initiative (OOI)</td>\n",
       "      <td>ooi-ce01issm-rid16-03-dostad000</td>\n",
       "      <td>https://erddap.dataexplorer.oceanobservatories...</td>\n",
       "    </tr>\n",
       "    <tr>\n",
       "      <th>3</th>\n",
       "      <td>Coastal Endurance: Oregon Inshore Surface Moor...</td>\n",
       "      <td>Ocean Observatories Initiative (OOI)</td>\n",
       "      <td>ooi-ce01issm-rid16-07-nutnrb000</td>\n",
       "      <td>https://erddap.dataexplorer.oceanobservatories...</td>\n",
       "    </tr>\n",
       "    <tr>\n",
       "      <th>4</th>\n",
       "      <td>Coastal Endurance: Oregon Inshore Surface Moor...</td>\n",
       "      <td>Ocean Observatories Initiative (OOI)</td>\n",
       "      <td>ooi-ce01issm-rid16-06-phsend000</td>\n",
       "      <td>https://erddap.dataexplorer.oceanobservatories...</td>\n",
       "    </tr>\n",
       "  </tbody>\n",
       "</table>\n",
       "</div>"
      ],
      "text/plain": [
       "                                               Title  \\\n",
       "0  Coastal Endurance: Oregon Inshore Surface Moor...   \n",
       "1  Coastal Endurance: Oregon Inshore Surface Moor...   \n",
       "2  Coastal Endurance: Oregon Inshore Surface Moor...   \n",
       "3  Coastal Endurance: Oregon Inshore Surface Moor...   \n",
       "4  Coastal Endurance: Oregon Inshore Surface Moor...   \n",
       "\n",
       "                            Institution                       Dataset ID  \\\n",
       "0  Ocean Observatories Initiative (OOI)  ooi-ce01issm-rid16-02-flortd000   \n",
       "1  Ocean Observatories Initiative (OOI)  ooi-ce01issm-rid16-03-ctdbpc000   \n",
       "2  Ocean Observatories Initiative (OOI)  ooi-ce01issm-rid16-03-dostad000   \n",
       "3  Ocean Observatories Initiative (OOI)  ooi-ce01issm-rid16-07-nutnrb000   \n",
       "4  Ocean Observatories Initiative (OOI)  ooi-ce01issm-rid16-06-phsend000   \n",
       "\n",
       "                                          Server url  \n",
       "0  https://erddap.dataexplorer.oceanobservatories...  \n",
       "1  https://erddap.dataexplorer.oceanobservatories...  \n",
       "2  https://erddap.dataexplorer.oceanobservatories...  \n",
       "3  https://erddap.dataexplorer.oceanobservatories...  \n",
       "4  https://erddap.dataexplorer.oceanobservatories...  "
      ]
     },
     "execution_count": 10,
     "metadata": {},
     "output_type": "execute_result"
    }
   ],
   "source": [
    "from erddapy.multiple_server_search import advanced_search_servers\n",
    "\n",
    "min_time = \"2017-07-01T00:00:00Z\"\n",
    "max_time = \"2017-09-01T00:00:00Z\"\n",
    "min_lon, max_lon = -127, -123.75\n",
    "min_lat, max_lat = 43, 48\n",
    "standard_name = \"sea_water_practical_salinity\"\n",
    "\n",
    "\n",
    "kw = {\n",
    "    \"standard_name\": standard_name,\n",
    "    \"min_lon\": min_lon,\n",
    "    \"max_lon\": max_lon,\n",
    "    \"min_lat\": min_lat,\n",
    "    \"max_lat\": max_lat,\n",
    "    \"min_time\": min_time,\n",
    "    \"max_time\": max_time,\n",
    "    \"cdm_data_type\": \"timeseries\",  # let's exclude AUV's tracks\n",
    "}\n",
    "\n",
    "\n",
    "servers = {\n",
    "    \"ooi\": \"https://erddap.dataexplorer.oceanobservatories.org/erddap/\",\n",
    "    \"ioos\": \"https://erddap.sensors.ioos.us/erddap/\",\n",
    "}\n",
    "\n",
    "\n",
    "df = advanced_search_servers(servers_list=servers.values(), **kw)\n",
    "\n",
    "df.head()"
   ]
  }
 ],
 "metadata": {
  "_draft": {
   "nbviewer_url": "https://gist.github.com/8ec655651bf16b6e0328367caff971c1"
  },
  "gist": {
   "data": {
    "description": "ERDDAP searchFor",
    "public": true
   },
   "id": "8ec655651bf16b6e0328367caff971c1"
  },
  "gist_id": "3f0f25b13ade0c64c84607bd92903d1b",
  "kernelspec": {
   "display_name": "Python 3 (ipykernel)",
   "language": "python",
   "name": "python3"
  },
  "language_info": {
   "codemirror_mode": {
    "name": "ipython",
    "version": 3
   },
   "file_extension": ".py",
   "mimetype": "text/x-python",
   "name": "python",
   "nbconvert_exporter": "python",
   "pygments_lexer": "ipython3",
   "version": "3.12.5"
  }
 },
 "nbformat": 4,
 "nbformat_minor": 1
}
