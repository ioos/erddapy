{
 "cells": [
  {
   "cell_type": "markdown",
   "metadata": {},
   "source": [
    "# Longer introduction\n",
    "\n",
    "Let's explore the methods and attributes available in the ERDDAP object? Note\n",
    "that we can either use the short server key (NGDAC) or the full URL. For a list\n",
    "of the short keys check _erddapy.servers_.\n"
   ]
  },
  {
   "cell_type": "code",
   "execution_count": null,
   "metadata": {
    "execution": {
     "iopub.execute_input": "2021-08-09T20:11:31.086751Z",
     "iopub.status.busy": "2021-08-09T20:11:31.083467Z",
     "iopub.status.idle": "2021-08-09T20:11:32.552331Z",
     "shell.execute_reply": "2021-08-09T20:11:32.553276Z"
    }
   },
   "outputs": [],
   "source": [
    "from erddapy import ERDDAP\n",
    "\n",
    "server = \"https://gliders.ioos.us/erddap\"\n",
    "e = ERDDAP(server=server)\n",
    "\n",
    "[method for method in dir(e) if not method.startswith(\"_\")]"
   ]
  },
  {
   "cell_type": "markdown",
   "metadata": {},
   "source": [
    "All the methods prefixed with \\_get\\_\\_ will return a valid ERDDAP URL for the\n",
    "requested response and options. For example, searching for all datasets\n",
    "available.\n"
   ]
  },
  {
   "cell_type": "code",
   "execution_count": null,
   "metadata": {
    "execution": {
     "iopub.execute_input": "2021-08-09T20:11:32.566477Z",
     "iopub.status.busy": "2021-08-09T20:11:32.565015Z",
     "iopub.status.idle": "2021-08-09T20:11:32.571074Z",
     "shell.execute_reply": "2021-08-09T20:11:32.569399Z"
    }
   },
   "outputs": [],
   "source": [
    "url = e.get_search_url(search_for=\"all\", response=\"html\")\n",
    "\n",
    "print(url)"
   ]
  },
  {
   "cell_type": "markdown",
   "metadata": {},
   "source": [
    "There are many responses available, see the docs for\n",
    "[griddap](https://erddap.ioos.us/erddap/griddap/documentation.html)\n",
    "and\n",
    "[tabledap](https://erddap.ioos.us/erddap/tabledap/documentation.html)\n",
    "respectively. The most useful ones for Pythonistas are the .csv and .nc that can\n",
    "be read with pandas and netCDF4-python respectively.\n",
    "\n",
    "Let's load the csv response directly with pandas.\n"
   ]
  },
  {
   "cell_type": "code",
   "execution_count": null,
   "metadata": {
    "execution": {
     "iopub.execute_input": "2021-08-09T20:11:32.598113Z",
     "iopub.status.busy": "2021-08-09T20:11:32.586675Z",
     "iopub.status.idle": "2021-08-09T20:11:34.208595Z",
     "shell.execute_reply": "2021-08-09T20:11:34.209865Z"
    }
   },
   "outputs": [],
   "source": [
    "import pandas as pd\n",
    "\n",
    "url = e.get_search_url(search_for=\"whoi\", response=\"csv\")\n",
    "\n",
    "df = pd.read_csv(url)\n",
    "print(\n",
    "    f'We have {len(set(df[\"tabledap\"].dropna()))} '\n",
    "    f'tabledap, {len(set(df[\"griddap\"].dropna()))} '\n",
    "    f'griddap, and {len(set(df[\"wms\"].dropna()))} wms endpoints.',\n",
    ")"
   ]
  },
  {
   "cell_type": "markdown",
   "metadata": {},
   "source": [
    "We can refine our search by providing some constraints.\n",
    "\n",
    "Let's narrow the search area, time span, and look for **sea_water_temperature**."
   ]
  },
  {
   "cell_type": "code",
   "execution_count": null,
   "metadata": {
    "execution": {
     "iopub.execute_input": "2021-08-09T20:11:34.223024Z",
     "iopub.status.busy": "2021-08-09T20:11:34.218059Z",
     "iopub.status.idle": "2021-08-09T20:11:34.238516Z",
     "shell.execute_reply": "2021-08-09T20:11:34.237670Z"
    }
   },
   "outputs": [],
   "source": [
    "from doc_helpers import show_iframe\n",
    "\n",
    "kw = {\n",
    "    \"standard_name\": \"sea_water_temperature\",\n",
    "    \"min_lon\": -72.0,\n",
    "    \"max_lon\": -69.0,\n",
    "    \"min_lat\": 38.0,\n",
    "    \"max_lat\": 41.0,\n",
    "    \"min_time\": \"2016-07-10T00:00:00Z\",\n",
    "    \"max_time\": \"2017-02-10T00:00:00Z\",\n",
    "    \"cdm_data_type\": \"trajectoryprofile\",\n",
    "}\n",
    "\n",
    "\n",
    "search_url = e.get_search_url(response=\"html\", **kw)\n",
    "show_iframe(search_url)"
   ]
  },
  {
   "cell_type": "markdown",
   "metadata": {},
   "source": [
    "The search form was populated with the constraints we provided.\n",
    "\n",
    "Changing the response from html to csv we load it in a data frame.\n"
   ]
  },
  {
   "cell_type": "code",
   "execution_count": null,
   "metadata": {
    "execution": {
     "iopub.execute_input": "2021-08-09T20:11:34.268797Z",
     "iopub.status.busy": "2021-08-09T20:11:34.253474Z",
     "iopub.status.idle": "2021-08-09T20:11:35.151568Z",
     "shell.execute_reply": "2021-08-09T20:11:35.149044Z"
    }
   },
   "outputs": [],
   "source": [
    "search_url = e.get_search_url(response=\"csv\", **kw)\n",
    "search = pd.read_csv(search_url)\n",
    "gliders = search[\"Dataset ID\"].to_numpy()\n",
    "\n",
    "gliders_list = \"\\n\".join(gliders)\n",
    "print(f\"Found {len(gliders)} Glider Datasets:\\n{gliders_list}\")"
   ]
  },
  {
   "cell_type": "markdown",
   "metadata": {},
   "source": [
    "Now that we know the Dataset ID we can explore their metadata with the\n",
    "_get_info_url_ method.\n"
   ]
  },
  {
   "cell_type": "code",
   "execution_count": null,
   "metadata": {
    "execution": {
     "iopub.execute_input": "2021-08-09T20:11:35.167307Z",
     "iopub.status.busy": "2021-08-09T20:11:35.166072Z",
     "iopub.status.idle": "2021-08-09T20:11:35.172013Z",
     "shell.execute_reply": "2021-08-09T20:11:35.170962Z"
    },
    "scrolled": true
   },
   "outputs": [],
   "source": [
    "glider = gliders[-1]\n",
    "\n",
    "info_url = e.get_info_url(dataset_id=glider, response=\"html\")\n",
    "\n",
    "show_iframe(src=info_url)"
   ]
  },
  {
   "cell_type": "markdown",
   "metadata": {},
   "source": [
    "We can manipulate the metadata and find the variables that have the\n",
    "_cdm_profile_variables_ attribute using the csv response.\n"
   ]
  },
  {
   "cell_type": "code",
   "execution_count": null,
   "metadata": {
    "execution": {
     "iopub.execute_input": "2021-08-09T20:11:35.200207Z",
     "iopub.status.busy": "2021-08-09T20:11:35.199354Z",
     "iopub.status.idle": "2021-08-09T20:11:36.245061Z",
     "shell.execute_reply": "2021-08-09T20:11:36.244089Z"
    },
    "scrolled": false
   },
   "outputs": [],
   "source": [
    "info_url = e.get_info_url(dataset_id=glider, response=\"csv\")\n",
    "\n",
    "info = pd.read_csv(info_url)\n",
    "info.head()"
   ]
  },
  {
   "cell_type": "code",
   "execution_count": null,
   "metadata": {
    "execution": {
     "iopub.execute_input": "2021-08-09T20:11:36.259283Z",
     "iopub.status.busy": "2021-08-09T20:11:36.253476Z",
     "iopub.status.idle": "2021-08-09T20:11:36.267066Z",
     "shell.execute_reply": "2021-08-09T20:11:36.269683Z"
    }
   },
   "outputs": [],
   "source": [
    "\"\".join(info.loc[info[\"Attribute Name\"] == \"cdm_profile_variables\", \"Value\"])"
   ]
  },
  {
   "cell_type": "markdown",
   "metadata": {},
   "source": [
    "Selecting variables by theirs attributes is such a common operation that erddapy\n",
    "brings its own method to simplify this task.\n",
    "\n",
    "The _get_var_by_attr_ method was inspired by netCDF4-python's\n",
    "_get_variables_by_attributes_. However, because erddapy operates on remote\n",
    "serves, it will return the variable names instead of the actual data.\n",
    "\n",
    "We ca check what is/are the variable(s) associated with the _standard_name_ used\n",
    "in the search.\n",
    "\n",
    "Note that _get_var_by_attr_ caches the last response in case the user needs to\n",
    "make multiple requests. (See the execution times below.)\n"
   ]
  },
  {
   "cell_type": "code",
   "execution_count": null,
   "metadata": {
    "execution": {
     "iopub.execute_input": "2021-08-09T20:11:36.282412Z",
     "iopub.status.busy": "2021-08-09T20:11:36.281420Z",
     "iopub.status.idle": "2021-08-09T20:11:37.672637Z",
     "shell.execute_reply": "2021-08-09T20:11:37.673560Z"
    }
   },
   "outputs": [],
   "source": [
    "%%time\n",
    "\n",
    "# First one, slow.\n",
    "e.get_var_by_attr(\n",
    "    dataset_id=\"whoi_406-20160902T1700\",\n",
    "    standard_name=\"sea_water_temperature\",\n",
    ")"
   ]
  },
  {
   "cell_type": "code",
   "execution_count": null,
   "metadata": {
    "execution": {
     "iopub.execute_input": "2021-08-09T20:11:37.686667Z",
     "iopub.status.busy": "2021-08-09T20:11:37.684472Z",
     "iopub.status.idle": "2021-08-09T20:11:37.697977Z",
     "shell.execute_reply": "2021-08-09T20:11:37.695814Z"
    }
   },
   "outputs": [],
   "source": [
    "%%time\n",
    "\n",
    "# Second one on the same glider, a little bit faster.\n",
    "e.get_var_by_attr(\n",
    "    dataset_id=\"whoi_406-20160902T1700\",\n",
    "    standard_name=\"sea_water_practical_salinity\",\n",
    ")"
   ]
  },
  {
   "cell_type": "markdown",
   "metadata": {},
   "source": [
    "Another way to browse datasets is via the _categorize_ URL. In the example below\n",
    "we can get all the _standard_names_ available in the dataset with a single\n",
    "request.\n"
   ]
  },
  {
   "cell_type": "code",
   "execution_count": null,
   "metadata": {
    "execution": {
     "iopub.execute_input": "2021-08-09T20:11:37.724527Z",
     "iopub.status.busy": "2021-08-09T20:11:37.708285Z",
     "iopub.status.idle": "2021-08-09T20:11:39.322392Z",
     "shell.execute_reply": "2021-08-09T20:11:39.324794Z"
    }
   },
   "outputs": [],
   "source": [
    "url = e.get_categorize_url(categorize_by=\"standard_name\", response=\"csv\")\n",
    "\n",
    "pd.read_csv(url)[\"Category\"]"
   ]
  },
  {
   "cell_type": "markdown",
   "metadata": {},
   "source": [
    "We can also pass a **value** to filter the categorize results.\n"
   ]
  },
  {
   "cell_type": "code",
   "execution_count": null,
   "metadata": {
    "execution": {
     "iopub.execute_input": "2021-08-09T20:11:39.352817Z",
     "iopub.status.busy": "2021-08-09T20:11:39.350193Z",
     "iopub.status.idle": "2021-08-09T20:11:41.192192Z",
     "shell.execute_reply": "2021-08-09T20:11:41.191149Z"
    }
   },
   "outputs": [],
   "source": [
    "url = e.get_categorize_url(\n",
    "    categorize_by=\"institution\",\n",
    "    value=\"woods_hole_oceanographic_institution\",\n",
    "    response=\"csv\",\n",
    ")\n",
    "\n",
    "df = pd.read_csv(url)\n",
    "whoi_gliders = df.loc[~df[\"tabledap\"].isna(), \"Dataset ID\"].tolist()\n",
    "whoi_gliders"
   ]
  },
  {
   "cell_type": "markdown",
   "metadata": {},
   "source": [
    "Let's create a map of some WHOI gliders tracks.\n",
    "\n",
    "We are downloading a lot of data! Note that we will use\n",
    "[joblib](https://joblib.readthedocs.io/en/latest/) to parallelize the for loop\n",
    "and get the data faster and we will limit to the first 5 gliders."
   ]
  },
  {
   "cell_type": "code",
   "execution_count": null,
   "metadata": {
    "execution": {
     "iopub.execute_input": "2021-08-09T20:11:41.208115Z",
     "iopub.status.busy": "2021-08-09T20:11:41.202272Z",
     "iopub.status.idle": "2021-08-09T20:12:31.692271Z",
     "shell.execute_reply": "2021-08-09T20:12:31.693604Z"
    },
    "scrolled": false
   },
   "outputs": [],
   "source": [
    "import multiprocessing\n",
    "\n",
    "from joblib import Parallel, delayed\n",
    "\n",
    "from erddapy.core import get_download_url, to_pandas\n",
    "\n",
    "\n",
    "def request_whoi(dataset_id):\n",
    "    variables = [\"longitude\", \"latitude\", \"temperature\", \"salinity\"]\n",
    "    url = get_download_url(\n",
    "        server,\n",
    "        dataset_id,\n",
    "        protocol=\"tabledap\",\n",
    "        variables=variables,\n",
    "        response=\"csv\",\n",
    "    )\n",
    "    # Drop units in the first line and NaNs.\n",
    "    df = to_pandas(url, pandas_kwargs={\"skiprows\": (1,)}).dropna()\n",
    "    return (dataset_id, df)\n",
    "\n",
    "\n",
    "num_cores = multiprocessing.cpu_count()\n",
    "downloads = Parallel(n_jobs=num_cores)(\n",
    "    delayed(request_whoi)(dataset_id) for dataset_id in whoi_gliders[:5]\n",
    ")\n",
    "\n",
    "dfs = dict(downloads)"
   ]
  },
  {
   "cell_type": "markdown",
   "metadata": {},
   "source": [
    "Finally let's see some figures!"
   ]
  },
  {
   "cell_type": "code",
   "execution_count": null,
   "metadata": {
    "execution": {
     "iopub.execute_input": "2021-08-09T20:12:31.730295Z",
     "iopub.status.busy": "2021-08-09T20:12:31.722044Z",
     "iopub.status.idle": "2021-08-09T20:12:34.431876Z",
     "shell.execute_reply": "2021-08-09T20:12:34.432514Z"
    }
   },
   "outputs": [],
   "source": [
    "import cartopy.crs as ccrs\n",
    "import matplotlib.pyplot as plt\n",
    "from cartopy.mpl.ticker import LatitudeFormatter, LongitudeFormatter\n",
    "\n",
    "\n",
    "def make_map():\n",
    "    fig, ax = plt.subplots(\n",
    "        figsize=(9, 9),\n",
    "        subplot_kw={\"projection\": ccrs.PlateCarree()},\n",
    "    )\n",
    "    ax.coastlines(resolution=\"10m\")\n",
    "    lon_formatter = LongitudeFormatter(zero_direction_label=True)\n",
    "    lat_formatter = LatitudeFormatter()\n",
    "    ax.xaxis.set_major_formatter(lon_formatter)\n",
    "    ax.yaxis.set_major_formatter(lat_formatter)\n",
    "\n",
    "    return fig, ax\n",
    "\n",
    "\n",
    "fig, ax = make_map()\n",
    "lons, lats = [], []\n",
    "for df in dfs.values():\n",
    "    lon, lat = df[\"longitude\"], df[\"latitude\"]\n",
    "    lons.extend(lon.array)\n",
    "    lats.extend(lat.array)\n",
    "    ax.plot(lon, lat)\n",
    "\n",
    "dx = dy = 0.25\n",
    "extent = min(lons) - dx, max(lons) + dx, min(lats) + dy, max(lats) + dy\n",
    "ax.set_extent(extent)\n",
    "\n",
    "ax.set_xticks([extent[0], extent[1]], crs=ccrs.PlateCarree())\n",
    "ax.set_yticks([extent[2], extent[3]], crs=ccrs.PlateCarree());"
   ]
  },
  {
   "cell_type": "code",
   "execution_count": null,
   "metadata": {
    "execution": {
     "iopub.execute_input": "2021-08-09T20:12:34.483717Z",
     "iopub.status.busy": "2021-08-09T20:12:34.443869Z",
     "iopub.status.idle": "2021-08-09T20:12:36.055974Z",
     "shell.execute_reply": "2021-08-09T20:12:36.056550Z"
    }
   },
   "outputs": [],
   "source": [
    "def glider_scatter(df, ax):\n",
    "    ax.scatter(df[\"temperature\"], df[\"salinity\"], s=10, alpha=0.25)\n",
    "\n",
    "\n",
    "fig, ax = plt.subplots(figsize=(9, 9))\n",
    "ax.set_ylabel(\"salinity\")\n",
    "ax.set_xlabel(\"temperature\")\n",
    "ax.grid(True)\n",
    "\n",
    "for df in dfs.values():\n",
    "    glider_scatter(df, ax)\n",
    "\n",
    "ax.axis([5.5, 30, 30, 38])"
   ]
  },
  {
   "cell_type": "code",
   "execution_count": null,
   "metadata": {
    "execution": {
     "iopub.execute_input": "2021-08-09T20:12:36.080868Z",
     "iopub.status.busy": "2021-08-09T20:12:36.071039Z",
     "iopub.status.idle": "2021-08-09T20:13:23.706898Z",
     "shell.execute_reply": "2021-08-09T20:13:23.708168Z"
    }
   },
   "outputs": [],
   "source": [
    "e.dataset_id = \"whoi_406-20160902T1700\"\n",
    "e.protocol = \"tabledap\"\n",
    "e.variables = [\n",
    "    \"depth\",\n",
    "    \"latitude\",\n",
    "    \"longitude\",\n",
    "    \"salinity\",\n",
    "    \"temperature\",\n",
    "    \"time\",\n",
    "]\n",
    "\n",
    "e.constraints = {\n",
    "    \"time>=\": \"2016-09-03T00:00:00Z\",\n",
    "    \"time<=\": \"2017-02-10T00:00:00Z\",\n",
    "    \"latitude>=\": 38.0,\n",
    "    \"latitude<=\": 41.0,\n",
    "    \"longitude>=\": -72.0,\n",
    "    \"longitude<=\": -69.0,\n",
    "}\n",
    "\n",
    "\n",
    "df = e.to_pandas(\n",
    "    index_col=\"time (UTC)\",\n",
    "    parse_dates=True,\n",
    ").dropna()"
   ]
  },
  {
   "cell_type": "code",
   "execution_count": null,
   "metadata": {
    "execution": {
     "iopub.execute_input": "2021-08-09T20:13:23.771484Z",
     "iopub.status.busy": "2021-08-09T20:13:23.718697Z",
     "iopub.status.idle": "2021-08-09T20:13:26.309110Z",
     "shell.execute_reply": "2021-08-09T20:13:26.308264Z"
    }
   },
   "outputs": [],
   "source": [
    "import matplotlib.dates as mdates\n",
    "\n",
    "fig, ax = plt.subplots(figsize=(17, 2))\n",
    "cs = ax.scatter(\n",
    "    df.index,\n",
    "    df[\"depth (m)\"],\n",
    "    s=15,\n",
    "    c=df[\"temperature (Celsius)\"],\n",
    "    marker=\"o\",\n",
    "    edgecolor=\"none\",\n",
    ")\n",
    "\n",
    "ax.invert_yaxis()\n",
    "ax.set_xlim(df.index[0], df.index[-1])\n",
    "xfmt = mdates.DateFormatter(\"%H:%Mh\\n%d-%b\")\n",
    "ax.xaxis.set_major_formatter(xfmt)\n",
    "\n",
    "cbar = fig.colorbar(cs, orientation=\"vertical\", extend=\"both\")\n",
    "cbar.ax.set_ylabel(r\"Temperature ($^\\circ$C)\")\n",
    "ax.set_ylabel(\"Depth (m)\")"
   ]
  }
 ],
 "metadata": {
  "_draft": {
   "nbviewer_url": "https://gist.github.com/7e5eab16282538d11fdab7de5bd0c474"
  },
  "gist": {
   "data": {
    "description": "ERDDAP_advanced_glider_search.ipynb",
    "public": true
   },
   "id": "7e5eab16282538d11fdab7de5bd0c474"
  },
  "gist_id": "3f0f25b13ade0c64c84607bd92903d1b",
  "kernelspec": {
   "display_name": "Python 3 (ipykernel)",
   "language": "python",
   "name": "python3"
  },
  "language_info": {
   "codemirror_mode": {
    "name": "ipython",
    "version": 3
   },
   "file_extension": ".py",
   "mimetype": "text/x-python",
   "name": "python",
   "nbconvert_exporter": "python",
   "pygments_lexer": "ipython3",
   "version": "3.10.13"
  }
 },
 "nbformat": 4,
 "nbformat_minor": 1
}
