{
 "cells": [
  {
   "cell_type": "markdown",
   "metadata": {},
   "source": [
    "# Quick introduction\n",
    "\n",
    "erddapy is a pure python package and can be installed with conda\n",
    "\n",
    "```shell\n",
    "conda install --channel conda-forge erddapy\n",
    "```\n",
    "\n",
    "or pip\n",
    "\n",
    "```shell\n",
    "pip install erddapy\n",
    "```\n",
    "\n",
    "\n",
    "First we need to instantiate the ERDDAP URL constructor for a server.\n",
    "In these examples we will use\n",
    "[https://standards.sensors.ioos.us/erddap/index.html](https://standards.sensors.ioos.us/erddap/index.html) and [https://erddap.ioos.us/erddap/index.html](https://erddap.ioos.us/erddap/index.html)."
   ]
  },
  {
   "cell_type": "code",
   "execution_count": null,
   "metadata": {},
   "outputs": [],
   "source": [
    "from erddapy import ERDDAP\n",
    "\n",
    "server = \"https://standards.sensors.ioos.us/erddap\"\n",
    "e = ERDDAP(\n",
    "    server=server,\n",
    "    protocol=\"tabledap\",\n",
    "    response=\"csv\",\n",
    ")"
   ]
  },
  {
   "cell_type": "markdown",
   "metadata": {},
   "source": [
    "Now we can populate the object a dataset id, variables of interest, and its\n",
    "constraints (last week gliders). Use the method `to_pandas` to download the\n",
    "csv(p) response, a comma separated values with units and explore the Dataframe.\n"
   ]
  },
  {
   "cell_type": "code",
   "execution_count": null,
   "metadata": {},
   "outputs": [],
   "source": [
    "e.dataset_id = \"org_cormp_cap2\"\n",
    "\n",
    "e.variables = [\n",
    "    \"time\",\n",
    "    \"latitude\",\n",
    "    \"longitude\",\n",
    "    \"sea_water_temperature\",\n",
    "    \"air_temperature\",\n",
    "]\n",
    "\n",
    "e.constraints = {\n",
    "    \"time>=\": \"2000-01-01\",\n",
    "}\n",
    "\n",
    "\n",
    "df = e.to_pandas(\n",
    "    index_col=\"time (UTC)\",\n",
    "    parse_dates=True,\n",
    ").dropna()\n",
    "\n",
    "df.head()"
   ]
  },
  {
   "cell_type": "markdown",
   "metadata": {},
   "source": [
    "We can constraint the in time and space with relative constraints like in the\n",
    "example below. For more ways to access the data please check the \"Longer\n",
    "introduction.\"\n"
   ]
  },
  {
   "cell_type": "code",
   "execution_count": null,
   "metadata": {},
   "outputs": [],
   "source": [
    "server = \"https://erddap.ioos.us/erddap\"\n",
    "e = ERDDAP(\n",
    "    server=server,\n",
    "    protocol=\"tabledap\",\n",
    "    response=\"csv\",\n",
    ")\n",
    "\n",
    "e.dataset_id = \"processed_asset_inventory\"\n",
    "\n",
    "# Get the box of the first 10 degrees bbox.\n",
    "constraints = {\n",
    "    \"longitude<=\": \"min(longitude)+10\",\n",
    "    \"longitude>=\": \"min(longitude)\",\n",
    "    \"latitude<=\": \"min(latitude)+10\",\n",
    "    \"latitude>=\": \"min(latitude)\",\n",
    "}\n",
    "\n",
    "\n",
    "url = e.get_download_url(\n",
    "    response=\"htmlTable\",\n",
    "    constraints=constraints,\n",
    ")\n",
    "\n",
    "print(url)"
   ]
  },
  {
   "cell_type": "markdown",
   "metadata": {},
   "source": [
    "We can search all datasets with a set of constraints by setting `dataset_id` to `\"allDatasets\"`. Note that these variables are different than the ones available at the individual dataset level. For a reference of the possible variables to query all datasets see the `<server-url>/erddap/<protocol>/allDatasets.html` page, like [this one](https://erddap.ifremer.fr/erddap/tabledap/allDatasets.html) for the Ifremer ERDDAP server."
   ]
  },
  {
   "cell_type": "code",
   "execution_count": null,
   "metadata": {},
   "outputs": [],
   "source": [
    "e.dataset_id = \"allDatasets\"\n",
    "\n",
    "e.variables = [\n",
    "    \"datasetID\",\n",
    "    \"institution\",\n",
    "]\n",
    "\n",
    "\n",
    "url = e.get_download_url(response=\"html\")\n",
    "print(url)\n",
    "\n",
    "df = e.to_pandas(\n",
    "    index_col=\"datasetID\",\n",
    ").dropna()\n",
    "\n",
    "\n",
    "df.head()"
   ]
  }
 ],
 "metadata": {
  "_draft": {
   "nbviewer_url": "https://gist.github.com/7e5eab16282538d11fdab7de5bd0c474"
  },
  "gist": {
   "data": {
    "description": "ERDDAP_advanced_glider_search.ipynb",
    "public": true
   },
   "id": "7e5eab16282538d11fdab7de5bd0c474"
  },
  "gist_id": "3f0f25b13ade0c64c84607bd92903d1b",
  "kernelspec": {
   "display_name": "Python 3 (ipykernel)",
   "language": "python",
   "name": "python3"
  },
  "language_info": {
   "codemirror_mode": {
    "name": "ipython",
    "version": 3
   },
   "file_extension": ".py",
   "mimetype": "text/x-python",
   "name": "python",
   "nbconvert_exporter": "python",
   "pygments_lexer": "ipython3",
   "version": "3.10.13"
  }
 },
 "nbformat": 4,
 "nbformat_minor": 1
}
