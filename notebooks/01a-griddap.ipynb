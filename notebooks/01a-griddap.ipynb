{
 "cells": [
  {
   "cell_type": "markdown",
   "metadata": {},
   "source": [
    "# Griddap\n",
    "\n",
    "Erddapy can access gridded datasets,\n",
    "using the server-side subsetting of griddap or the OPeNDAP response,\n",
    "to download only the parts of a dataset that the user requires.\n",
    "\n",
    "In our example we will use a Region of Interest (ROI) to extract data within its bounds.\n",
    "First we need to read the ROI with `geopandas`.\n",
    "Let's use the South Atlantic Ocean basin from Natural Earth as our ROI."
   ]
  },
  {
   "cell_type": "code",
   "execution_count": null,
   "metadata": {},
   "outputs": [],
   "source": [
    "import geopandas\n",
    "import pooch\n",
    "\n",
    "url = \"https://naturalearth.s3.amazonaws.com/4.1.1/50m_physical/ne_50m_geography_marine_polys.zip\"\n",
    "fname = pooch.retrieve(\n",
    "    url,\n",
    "    known_hash=\"db6f59e5a747c016451caec2450db6deea25d702dc2fb9c39384c1b909fb7f72\",\n",
    ")\n",
    "\n",
    "oceans = geopandas.read_file(fname)\n",
    "\n",
    "name = \"South Atlantic Ocean\"\n",
    "SA = oceans.loc[oceans[\"name\"] == name]"
   ]
  },
  {
   "cell_type": "markdown",
   "metadata": {},
   "source": [
    "When accessing gridded datasets we need to define the `protocol=\"griddap\"` in\n",
    "our class instantiation.\n"
   ]
  },
  {
   "cell_type": "code",
   "execution_count": null,
   "metadata": {
    "pycharm": {
     "name": "#%%\n"
    }
   },
   "outputs": [],
   "source": [
    "from erddapy import ERDDAP\n",
    "\n",
    "e = ERDDAP(\n",
    "    server=\"https://pae-paha.pacioos.hawaii.edu/erddap\",\n",
    "    protocol=\"griddap\",\n",
    ")\n",
    "\n",
    "e.dataset_id = \"etopo5_lon180\""
   ]
  },
  {
   "cell_type": "markdown",
   "metadata": {},
   "source": [
    "CAVEAT: Note that ERDDAP can serve gridded data with longitudes in the 0&ndash;360 format or -180&ndash;180.\n",
    "The user must inspect the dataset and modify your query accordingly.\n",
    "\n",
    "Information on the griddap dataset is fetched with `griddap_initialize`.\n",
    "This fills in the `variables` and `constraints` properties for that dataset."
   ]
  },
  {
   "cell_type": "code",
   "execution_count": null,
   "metadata": {},
   "outputs": [],
   "source": [
    "import json\n",
    "\n",
    "e.griddap_initialize()\n",
    "\n",
    "print(f\"variables in this dataset:\\n\\n{e.variables}\")\n",
    "constraints = json.dumps(e.constraints, indent=1)\n",
    "print(f\"\\nconstraints of this dataset:\\n\\n{constraints}\")"
   ]
  },
  {
   "cell_type": "markdown",
   "metadata": {},
   "source": [
    "The default behaviour is to use erddap standard subsetting to return all variables at the most recent timestep and every point of the remaining dimensions.\n",
    "\n",
    "This can result in large data requests!\n",
    "However, the values of the constraints can be changed and variables dropped before data set is downloaded.\n",
    "Here we will download only one variable from that list."
   ]
  },
  {
   "cell_type": "code",
   "execution_count": null,
   "metadata": {},
   "outputs": [],
   "source": [
    "e.variables = [e.variables[0]]\n",
    "\n",
    "print(f\"Downloading {e.variables}.\")"
   ]
  },
  {
   "cell_type": "markdown",
   "metadata": {},
   "source": [
    "And we will reduce the dataset a bit further by requesting only the data that is inside the bounding box of the South Atlantic."
   ]
  },
  {
   "cell_type": "code",
   "execution_count": null,
   "metadata": {},
   "outputs": [],
   "source": [
    "SA.bounds"
   ]
  },
  {
   "cell_type": "code",
   "execution_count": null,
   "metadata": {},
   "outputs": [],
   "source": [
    "def bounds2contraints(bounds):\n",
    "    return {\n",
    "        \"longitude>=\": bounds.minx.squeeze(),\n",
    "        \"longitude<=\": bounds.maxx.squeeze(),\n",
    "        \"latitude>=\": bounds.miny.squeeze(),\n",
    "        \"latitude<=\": bounds.maxy.squeeze(),\n",
    "    }\n",
    "\n",
    "\n",
    "e.constraints.update(bounds2contraints(SA.bounds))\n",
    "e.constraints"
   ]
  },
  {
   "cell_type": "markdown",
   "metadata": {},
   "source": [
    "Note the new longitude/latitude limits in the query above.\n",
    "New can download the data into an `xarray.Dataset` object."
   ]
  },
  {
   "cell_type": "code",
   "execution_count": null,
   "metadata": {
    "scrolled": false
   },
   "outputs": [],
   "source": [
    "%%time\n",
    "\n",
    "\n",
    "ds = e.to_xarray()"
   ]
  },
  {
   "cell_type": "markdown",
   "metadata": {},
   "source": [
    "Once downloaded data can be quickly visualised with xarray's inbuilt plotting\n",
    "functionality."
   ]
  },
  {
   "cell_type": "code",
   "execution_count": null,
   "metadata": {},
   "outputs": [],
   "source": [
    "import cartopy.crs as ccrs\n",
    "import matplotlib.pyplot as plt\n",
    "\n",
    "fig, ax = plt.subplots(subplot_kw={\"projection\": ccrs.PlateCarree()})\n",
    "ds[\"ROSE\"].plot(ax=ax)\n",
    "ax.coastlines();"
   ]
  },
  {
   "cell_type": "markdown",
   "metadata": {},
   "source": [
    "Note that we did not extract the exact ROI but instead we downloaded what is inside a square defined by its bounds.\n",
    "We can refine the data selection using region mask and download strictly what is inside th ROI."
   ]
  },
  {
   "cell_type": "code",
   "execution_count": null,
   "metadata": {},
   "outputs": [],
   "source": [
    "import regionmask\n",
    "\n",
    "region = regionmask.from_geopandas(SA, name=name)\n",
    "region.plot();"
   ]
  },
  {
   "cell_type": "code",
   "execution_count": null,
   "metadata": {},
   "outputs": [],
   "source": [
    "mask = region.mask(\n",
    "    ds,\n",
    "    lon_name=\"longitude\",\n",
    "    lat_name=\"latitude\",\n",
    "    method=\"shapely\",\n",
    ")\n",
    "\n",
    "\n",
    "fig, ax = plt.subplots(subplot_kw={\"projection\": ccrs.PlateCarree()})\n",
    "ds[\"ROSE\"].where(mask == region.numbers[0]).plot(ax=ax)\n",
    "ax.coastlines();"
   ]
  },
  {
   "cell_type": "markdown",
   "metadata": {},
   "source": [
    "Now we have data only for the Altantic Ocean, no land data in our plot.\n",
    "\n",
    "### Subset after the request with OPeNDAP\n",
    "\n",
    "ERDDAP server-side subsetting can be avoided by specifying the OPeNDAP protocol.\n",
    "This is a good choice if you intend to use a full dataset or subset it after the request.\n",
    "\n",
    "Note that most OPeNDAP clients will eagerly download only the coordinates,\n",
    "making a post request subset almost as fast as serve-side subset."
   ]
  },
  {
   "cell_type": "code",
   "execution_count": null,
   "metadata": {},
   "outputs": [],
   "source": [
    "e = ERDDAP(\n",
    "    server=\"https://pae-paha.pacioos.hawaii.edu/erddap\",\n",
    "    protocol=\"griddap\",\n",
    "    response=\"opendap\",\n",
    ")\n",
    "\n",
    "e.dataset_id = \"etopo5_lon180\""
   ]
  },
  {
   "cell_type": "markdown",
   "metadata": {},
   "source": [
    "The data can be downloaded immediately, no need to run `griddap_initialize`\n"
   ]
  },
  {
   "cell_type": "code",
   "execution_count": null,
   "metadata": {},
   "outputs": [],
   "source": [
    "%%time\n",
    "\n",
    "ds = e.to_xarray()"
   ]
  },
  {
   "cell_type": "markdown",
   "metadata": {},
   "source": [
    "Let's take a quick look at the data.\n"
   ]
  },
  {
   "cell_type": "code",
   "execution_count": null,
   "metadata": {},
   "outputs": [],
   "source": [
    "%%time\n",
    "\n",
    "projection = ccrs.PlateCarree()\n",
    "\n",
    "fig, ax = plt.subplots(subplot_kw={\"projection\": projection})\n",
    "ds[\"ROSE\"].plot(ax=ax)\n",
    "ax.coastlines();"
   ]
  },
  {
   "cell_type": "code",
   "execution_count": null,
   "metadata": {},
   "outputs": [],
   "source": [
    "mask = region.mask(\n",
    "    ds,\n",
    "    lon_name=\"longitude\",\n",
    "    lat_name=\"latitude\",\n",
    "    method=\"shapely\",\n",
    ")\n",
    "\n",
    "\n",
    "fig, ax = plt.subplots(subplot_kw={\"projection\": ccrs.PlateCarree()})\n",
    "ds[\"ROSE\"].where(mask == region.numbers[0]).plot(ax=ax)\n",
    "ax.coastlines();"
   ]
  }
 ],
 "metadata": {
  "kernelspec": {
   "display_name": "Python 3 (ipykernel)",
   "language": "python",
   "name": "python3"
  },
  "language_info": {
   "codemirror_mode": {
    "name": "ipython",
    "version": 3
   },
   "file_extension": ".py",
   "mimetype": "text/x-python",
   "name": "python",
   "nbconvert_exporter": "python",
   "pygments_lexer": "ipython3",
   "version": "3.10.13"
  }
 },
 "nbformat": 4,
 "nbformat_minor": 1
}
