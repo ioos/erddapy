{
 "cells": [
  {
   "cell_type": "code",
   "execution_count": 5,
   "metadata": {},
   "outputs": [],
   "source": [
    "from imports import *\n",
    "from functions import *\n",
    "from classes import *"
   ]
  },
  {
   "cell_type": "markdown",
   "metadata": {},
   "source": [
    "## Testing the Griddap search url API with different paramters\""
   ]
  },
  {
   "cell_type": "markdown",
   "metadata": {},
   "source": [
    "## For more details i have attached the screnshot with the name of their datasetid"
   ]
  },
  {
   "cell_type": "code",
   "execution_count": 6,
   "metadata": {},
   "outputs": [
    {
     "name": "stdout",
     "output_type": "stream",
     "text": [
      "https://coastwatch.pfeg.noaa.gov/erddap/griddap/jplMURSST41.html?cdm_data_type=trajectoryprofile&institution=(ANY)&ioos_category=(ANY)&keywords=(ANY)&long_name=(ANY)&standard_name=sea_water_temperature&variableName=(ANY)&Lat=[(-89.99):1000:(89.99)]&Lon=[(-179.99):1000:(180.0)]&&searchFor=all\n"
     ]
    }
   ],
   "source": [
    "e = ERDDAP(server=\"CSWC\",protocol=\"griddap\",response=\"html\")\n",
    "kw = {\n",
    "    \"dataset_id\":\"jplMURSST41\",\n",
    "    \"standard_name\":\"sea_water_temperature\",\n",
    "    \"Lat\":\"[(-89.99):1000:(89.99)]\",\n",
    "    \"Lon\":\"[(-179.99):1000:(180.0)]\",\n",
    "    \"cdm_data_type\":\"trajectoryprofile\",\n",
    "}\n",
    "searchurl = e.get_search_url(search_for=\"all\",**kw)\n",
    "print(searchurl)"
   ]
  },
  {
   "cell_type": "code",
   "execution_count": 7,
   "metadata": {},
   "outputs": [
    {
     "name": "stdout",
     "output_type": "stream",
     "text": [
      "https://coastwatch.pfeg.noaa.gov/erddap/griddap/jplMURSST41.html?cdm_data_type=trajectoryprofile&institution=(ANY)&ioos_category=(ANY)&keywords=(ANY)&long_name=(ANY)&standard_name=sea_water_temperature&variableName=(ANY)&Lat=[(-89.99):1000:(89.99)]&Lon=[(-179.99):1000:(180.0)]&&searchFor=all\n"
     ]
    }
   ],
   "source": [
    "e = ERDDAP(server=\"CSWC\",protocol=\"griddap\",response=\"html\")\n",
    "kw = {\n",
    "    \"dataset_id\":\"jplMURSST41\",\n",
    "    \"standard_name\":\"sea_water_temperature\",\n",
    "    \"Lat\":\"[(-89.99):1000:(89.99)]\",\n",
    "    \"Lon\":\"[(-179.99):1000:(180.0)]\",\n",
    "    \"cdm_data_type\":\"trajectoryprofile\",\n",
    "}\n",
    "searchurl = e.get_search_url(search_for=\"all\",**kw)\n",
    "print(searchurl)"
   ]
  },
  {
   "cell_type": "code",
   "execution_count": 8,
   "metadata": {},
   "outputs": [
    {
     "name": "stdout",
     "output_type": "stream",
     "text": [
      "https://coastwatch.pfeg.noaa.gov/erddap/griddap/jplAmsreSstMon.html?cdm_data_type=trajectoryprofile&institution=(ANY)&ioos_category=(ANY)&keywords=(ANY)&long_name=(ANY)&standard_name=sea_water_temperature&variableName=(ANY)&Lat=[(-89.99):1:(89.99)]&Lon=[(-179.99):1:(180.0)]&&searchFor=all\n"
     ]
    }
   ],
   "source": [
    "e = ERDDAP(server=\"CSWC\",protocol=\"griddap\",response=\"html\")\n",
    "kw = {\n",
    "    \"dataset_id\":\"jplAmsreSstMon\",\n",
    "    \"standard_name\":\"sea_water_temperature\",\n",
    "    \"Lat\":\"[(-89.99):1:(89.99)]\",\n",
    "    \"Lon\":\"[(-179.99):1:(180.0)]\",\n",
    "    \"cdm_data_type\":\"trajectoryprofile\",\n",
    "}\n",
    "searchurl = e.get_search_url(search_for=\"all\",**kw)\n",
    "print(searchurl)"
   ]
  },
  {
   "cell_type": "code",
   "execution_count": 9,
   "metadata": {},
   "outputs": [
    {
     "name": "stdout",
     "output_type": "stream",
     "text": [
      "https://coastwatch.pfeg.noaa.gov/erddap/griddap/jplAmsreSstMon_LonPM180.html?cdm_data_type=trajectoryprofile&institution=(ANY)&ioos_category=(ANY)&keywords=(ANY)&long_name=(ANY)&standard_name=(ANY)&variableName=(ANY)&Lat=[(-90.99):1:(90.99)]&Lon=[(-100.99):1:(100.9)]&&searchFor=all\n"
     ]
    }
   ],
   "source": [
    "e = ERDDAP(server=\"CSWC\",protocol=\"griddap\",response=\"html\")\n",
    "kw = {\n",
    "    \"dataset_id\":\"jplAmsreSstMon_LonPM180\",\n",
    "    \"Lat\":\"[(-90.99):1:(90.99)]\",\n",
    "    \"Lon\":\"[(-100.99):1:(100.9)]\",\n",
    "    \"cdm_data_type\":\"trajectoryprofile\",\n",
    "}\n",
    "searchurl = e.get_search_url(search_for=\"all\",**kw)\n",
    "print(searchurl)"
   ]
  },
  {
   "cell_type": "code",
   "execution_count": 10,
   "metadata": {},
   "outputs": [
    {
     "name": "stdout",
     "output_type": "stream",
     "text": [
      "https://coastwatch.pfeg.noaa.gov/erddap/griddap/jplAquariusSSS3MonthV5.html?cdm_data_type=trajectoryprofile&institution=(ANY)&ioos_category=(ANY)&keywords=(ANY)&long_name=(ANY)&standard_name=(ANY)&variableName=(ANY)&Lat=[(49):1:(82)]&Lon=[(-168):1:(100)]&&searchFor=all\n"
     ]
    }
   ],
   "source": [
    "e = ERDDAP(server=\"CSWC\",protocol=\"griddap\",response=\"html\")\n",
    "kw = {\n",
    "    \"dataset_id\":\"jplAquariusSSS3MonthV5\",\n",
    "    \"Lat\":\"[(49):1:(82)]\",\n",
    "    \"Lon\":\"[(-168):1:(100)]\",\n",
    "    \"cdm_data_type\":\"trajectoryprofile\",\n",
    "}\n",
    "searchurl = e.get_search_url(search_for=\"all\",**kw)\n",
    "print(searchurl)"
   ]
  },
  {
   "cell_type": "code",
   "execution_count": 11,
   "metadata": {},
   "outputs": [
    {
     "name": "stdout",
     "output_type": "stream",
     "text": [
      "https://coastwatch.pfeg.noaa.gov/erddap/griddap/jplAquariusSSS7DayV5.html?cdm_data_type=trajectoryprofile&institution=(ANY)&ioos_category=(ANY)&keywords=(ANY)&long_name=(ANY)&standard_name=(ANY)&variableName=(ANY)&Lat=[(-42):1:(32)]&Lon=[(-20):1:(240)]&Time=1022922000.0&searchFor=all\n"
     ]
    }
   ],
   "source": [
    "e = ERDDAP(server=\"CSWC\",protocol=\"griddap\",response=\"html\")\n",
    "kw = {\n",
    "    \"dataset_id\":\"jplAquariusSSS7DayV5\",\n",
    "    \"Lat\":\"[(-42):1:(32)]\",\n",
    "    \"Lon\":\"[(-20):1:(240)]\",\n",
    "    \"cdm_data_type\":\"trajectoryprofile\",\n",
    "    \"Time\":\"2002-06-01T09:00:00Z\",\n",
    "}\n",
    "searchurl = e.get_search_url(search_for=\"all\",**kw)\n",
    "print(searchurl)"
   ]
  },
  {
   "cell_type": "code",
   "execution_count": 12,
   "metadata": {},
   "outputs": [
    {
     "name": "stdout",
     "output_type": "stream",
     "text": [
      "https://coastwatch.pfeg.noaa.gov/erddap/griddap/jplAquariusSSSMonthlyV5.html?cdm_data_type=(ANY)&institution=(ANY)&ioos_category=(ANY)&keywords=(ANY)&long_name=(ANY)&standard_name=(ANY)&variableName=(ANY)&Lat=[(-65):1:(68)]&Lon=[(-166):1:(335)]&Time=1617699600.0\n"
     ]
    }
   ],
   "source": [
    "e = ERDDAP(server=\"CSWC\",protocol=\"griddap\",response=\"html\")\n",
    "kw = {\n",
    "    \"dataset_id\":\"jplAquariusSSSMonthlyV5\",\n",
    "    \"Lat\":\"[(-65):1:(68)]\",\n",
    "    \"Lon\":\"[(-166):1:(335)]\",\n",
    "    \"Time\":\"2021-04-06T09:00:00Z\",\n",
    "}\n",
    "searchurl = e.get_search_url(search_for=\"\",**kw)\n",
    "print(searchurl)"
   ]
  },
  {
   "cell_type": "code",
   "execution_count": 13,
   "metadata": {},
   "outputs": [
    {
     "name": "stdout",
     "output_type": "stream",
     "text": [
      "https://coastwatch.pfeg.noaa.gov/erddap/griddap/testGridWav.html?cdm_data_type=(ANY)&institution=(ANY)&ioos_category=(ANY)&keywords=(ANY)&long_name=(ANY)&standard_name=(ANY)&variableName=(ANY)&Lat=[(38):1:(90)]&Lon=[(-179):1:(-151)]&\n"
     ]
    }
   ],
   "source": [
    "kw = {\n",
    "    \"dataset_id\":\"testGridWav\",\n",
    "    \"Lat\":\"[(38):1:(90)]\",\n",
    "    \"Lon\":\"[(-179):1:(-151)]\",\n",
    "}\n",
    "searchurl = e.get_search_url(**kw)\n",
    "print(searchurl)"
   ]
  },
  {
   "cell_type": "code",
   "execution_count": 14,
   "metadata": {},
   "outputs": [
    {
     "name": "stdout",
     "output_type": "stream",
     "text": [
      "https://coastwatch.pfeg.noaa.gov/erddap/griddap/nceiPH53sstd1day.html?cdm_data_type=(ANY)&institution=(ANY)&ioos_category=(ANY)&keywords=(ANY)&long_name=(ANY)&standard_name=(ANY)&variableName=(ANY)&Lat=[(-90):1:(39)]&Lon=[(-112):1:(360)]&Time=1586163600.0&searchFor=ocean\n"
     ]
    }
   ],
   "source": [
    "kw = {\n",
    "    \"dataset_id\":\"nceiPH53sstd1day\",\n",
    "    \"Lat\":\"[(-90):1:(39)]\",\n",
    "    \"Lon\":\"[(-112):1:(360)]\",\n",
    "    \"Time\":\"2020-04-06T09:00:00Z\"\n",
    "}\n",
    "searchurl = e.get_search_url(search_for=\"ocean\",**kw)\n",
    "print(searchurl)"
   ]
  },
  {
   "cell_type": "code",
   "execution_count": 15,
   "metadata": {},
   "outputs": [
    {
     "name": "stdout",
     "output_type": "stream",
     "text": [
      "https://coastwatch.pfeg.noaa.gov/erddap/griddap/nceiPH53sstn1day.html?cdm_data_type=(ANY)&institution=ncei&ioos_category=(ANY)&keywords=(ANY)&long_name=(ANY)&standard_name=(ANY)&variableName=(ANY)&Lat=[(-76):1:(81)]&Lon=[(-175):1:(360)]&&searchFor=waves\n"
     ]
    }
   ],
   "source": [
    "kw = {\n",
    "    \"dataset_id\":\"nceiPH53sstn1day\",\n",
    "    \"Lat\":\"[(-76):1:(81)]\",\n",
    "    \"Lon\":\"[(-175):1:(360)]\",\n",
    "    \"institution\":\"NCEI\"\n",
    "}\n",
    "searchurl = e.get_search_url(search_for=\"waves\",**kw)\n",
    "print(searchurl)"
   ]
  },
  {
   "cell_type": "code",
   "execution_count": 16,
   "metadata": {},
   "outputs": [
    {
     "name": "stdout",
     "output_type": "stream",
     "text": [
      "https://coastwatch.pfeg.noaa.gov/erddap/griddap/jplAvisoSshMon.html?cdm_data_type=(ANY)&institution=(ANY)&ioos_category=(ANY)&keywords=(ANY)&long_name=(ANY)&standard_name=(ANY)&variableName=(ANY)&Lat=(ANY)&Lon=(ANY)&\n"
     ]
    }
   ],
   "source": [
    "kw = {\n",
    "    \"dataset_id\":\"jplAvisoSshMon\"\n",
    "}\n",
    "searchurl = e.get_search_url(**kw)\n",
    "print(searchurl)"
   ]
  },
  {
   "cell_type": "code",
   "execution_count": 22,
   "metadata": {},
   "outputs": [
    {
     "name": "stdout",
     "output_type": "stream",
     "text": [
      "https://coastwatch.pfeg.noaa.gov/erddap/griddap/charmForecast1day.html?cdm_data_type=(ANY)&institution=ucsc, ucsd&ioos_category=(ANY)&keywords=(ANY)&long_name=(ANY)&standard_name=(ANY)&variableName=(ANY)&Lat=(ANY)&Lon=(ANY)&&searchFor=tides\n"
     ]
    }
   ],
   "source": [
    "kw = {\n",
    "    \"dataset_id\":\"charmForecast1day\",\n",
    "    \"institution\":\"UCSC, UCSD\"\n",
    "}\n",
    "searchurl = e.get_search_url(search_for=\"tides\",**kw)\n",
    "print(searchurl)\n"
   ]
  }
 ],
 "metadata": {
  "kernelspec": {
   "display_name": "Python 3.9.2 64-bit",
   "name": "python392jvsc74a57bd031f2aee4e71d21fbe5cf8b01ff0e069b9275f58929596ceb00d14d90e3e16cd6"
  },
  "language_info": {
   "codemirror_mode": {
    "name": "ipython",
    "version": 3
   },
   "file_extension": ".py",
   "mimetype": "text/x-python",
   "name": "python",
   "nbconvert_exporter": "python",
   "pygments_lexer": "ipython3",
   "version": "3.9.2"
  },
  "metadata": {
   "interpreter": {
    "hash": "31f2aee4e71d21fbe5cf8b01ff0e069b9275f58929596ceb00d14d90e3e16cd6"
   }
  },
  "orig_nbformat": 2
 },
 "nbformat": 4,
 "nbformat_minor": 2
}